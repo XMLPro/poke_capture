{
 "cells": [
  {
   "cell_type": "markdown",
   "metadata": {},
   "source": [
    "## 必要なライブラリのインポート\n",
    "- numpy,chainer系\n",
    "- ファイル操作系\n",
    "- 画像操作"
   ]
  },
  {
   "cell_type": "code",
   "execution_count": 7,
   "metadata": {
    "collapsed": true
   },
   "outputs": [],
   "source": [
    "import numpy as np\n",
    "import chainer\n",
    "import chainer.functions as F\n",
    "import chainer.links as L\n",
    "from chainer import iterators, optimizers, training\n",
    "from chainer.training import extensions\n",
    "from chainer.cuda import to_cpu\n",
    "\n",
    "import os\n",
    "import glob\n",
    "from PIL import Image"
   ]
  },
  {
   "cell_type": "markdown",
   "metadata": {},
   "source": [
    "## modelの定義(AlexNetぽい構造の何か)"
   ]
  },
  {
   "cell_type": "code",
   "execution_count": 8,
   "metadata": {
    "collapsed": true
   },
   "outputs": [],
   "source": [
    "# class AlexNet(chainer.Chain):\n",
    "# #     insize = 100\n",
    "#     def __init__(self):\n",
    "#         super(AlexNet, self).__init__(\n",
    "#             conv1=L.Convolution2D(3, 96, 11, stride=4),\n",
    "#             conv2=L.Convolution2D(96, 256, 5, pad=2),\n",
    "#             conv3=L.Convolution2D(256, 384, 3, pad=1),\n",
    "#             conv4=L.Convolution2D(384, 284, 3, pad=1),\n",
    "#             conv5=L.Convolution2D(284, 256, 3, pad=1),\n",
    "#             fc6=L.Linear(1024, 4096),\n",
    "#             fc7=L.Linear(4096, 1024),\n",
    "#             fc8=L.Linear(1024, 3),\n",
    "#         )\n",
    "\n",
    "#     def __call__(self, x, t=None):\n",
    "#         h = x\n",
    "#         h = F.max_pooling_2d(F.local_response_normalization(F.relu(self.conv1(h))), 3, stride=2)\n",
    "#         h = F.max_pooling_2d(F.local_response_normalization(F.relu(self.conv2(h))), 3, stride=2)\n",
    "#         h = F.relu(self.conv3(h))\n",
    "#         h = F.relu(self.conv4(h))\n",
    "#         h = F.max_pooling_2d(F.relu(self.conv5(h)), 3, stride=2)\n",
    "#         h = F.dropout(F.relu(self.fc6(h)))\n",
    "#         h = F.dropout(F.relu(self.fc7(h)))\n",
    "#         if t is not None:\n",
    "#             loss = F.softmax_cross_entropy(h, t)\n",
    "#             chainer.report({'loss': loss, 'accuracy': F.accuracy(h, t)}, self)\n",
    "#             return loss\n",
    "#         else:\n",
    "#             return to_cpu(F.softmax(self.fc8(h)).data)"
   ]
  },
  {
   "cell_type": "code",
   "execution_count": 9,
   "metadata": {
    "collapsed": true
   },
   "outputs": [],
   "source": [
    "class AlexNet(chainer.Chain):\n",
    "#     insize = 100\n",
    "    def __init__(self):\n",
    "        super(AlexNet, self).__init__(\n",
    "            conv1=L.Convolution2D(3, 96, 11, stride=4),\n",
    "            conv2=L.Convolution2D(96, 256, 5, pad=2),\n",
    "            conv3=L.Convolution2D(256, 384, 3, pad=1),\n",
    "            conv4=L.Convolution2D(384, 284, 3, pad=1),\n",
    "            conv5=L.Convolution2D(284, 256, 3, pad=1),\n",
    "            fc6=L.Linear(9216, 4096),\n",
    "            fc7=L.Linear(4096, 1024),\n",
    "            fc8=L.Linear(1024, 50),\n",
    "        )\n",
    "\n",
    "    def __call__(self, x, t=None):\n",
    "        h = x\n",
    "        h = F.max_pooling_2d(F.local_response_normalization(F.relu(self.conv1(h))), 3, stride=2)\n",
    "        h = F.max_pooling_2d(F.local_response_normalization(F.relu(self.conv2(h))), 3, stride=2)\n",
    "        h = F.relu(self.conv3(h))\n",
    "        h = F.relu(self.conv4(h))\n",
    "        h = F.max_pooling_2d(F.relu(self.conv5(h)), 3, stride=2)\n",
    "        h = F.dropout(F.relu(self.fc6(h)))\n",
    "        h = F.dropout(F.relu(self.fc7(h)))\n",
    "        if t is not None:\n",
    "            loss = F.softmax_cross_entropy(h, t)\n",
    "            chainer.report({'loss': loss, 'accuracy': F.accuracy(h, t)}, self)\n",
    "            return loss\n",
    "        else:\n",
    "            return to_cpu(F.softmax(self.fc8(h)).data)"
   ]
  },
  {
   "cell_type": "markdown",
   "metadata": {},
   "source": [
    "## データセットのディレクトリ名の取得\n",
    "以降、ディレクトリごとにラベルつけていく"
   ]
  },
  {
   "cell_type": "code",
   "execution_count": 10,
   "metadata": {
    "collapsed": true
   },
   "outputs": [],
   "source": [
    "dataset_dir = \"dataset\"\n",
    "label_names = os.listdir(dataset_dir)"
   ]
  },
  {
   "cell_type": "code",
   "execution_count": 5,
   "metadata": {
    "collapsed": true,
    "scrolled": true
   },
   "outputs": [],
   "source": [
    "label_names = label_names[0:2]"
   ]
  },
  {
   "cell_type": "code",
   "execution_count": 11,
   "metadata": {
    "collapsed": true
   },
   "outputs": [],
   "source": [
    "_labels = []\n",
    "_images = []"
   ]
  },
  {
   "cell_type": "code",
   "execution_count": 12,
   "metadata": {},
   "outputs": [],
   "source": [
    "for i, label in enumerate(label_names):\n",
    "    for f in glob.glob(\"%s/%s/*\"%(dataset_dir,label)):\n",
    "        img = Image.open(f)\n",
    "        img = np.array(img.resize((227,227)))\n",
    "        for j in range(20):\n",
    "            _labels.append(i)\n",
    "            _images.append(img)"
   ]
  },
  {
   "cell_type": "code",
   "execution_count": 13,
   "metadata": {
    "scrolled": true
   },
   "outputs": [
    {
     "data": {
      "text/plain": [
       "array([[[0, 0, 0],\n",
       "        [0, 0, 0],\n",
       "        [0, 0, 0],\n",
       "        ..., \n",
       "        [0, 0, 0],\n",
       "        [0, 0, 0],\n",
       "        [0, 0, 0]],\n",
       "\n",
       "       [[0, 0, 0],\n",
       "        [0, 0, 0],\n",
       "        [0, 0, 0],\n",
       "        ..., \n",
       "        [0, 0, 0],\n",
       "        [0, 0, 0],\n",
       "        [0, 0, 0]],\n",
       "\n",
       "       [[0, 0, 0],\n",
       "        [0, 0, 0],\n",
       "        [0, 0, 0],\n",
       "        ..., \n",
       "        [0, 0, 0],\n",
       "        [0, 0, 0],\n",
       "        [0, 0, 0]],\n",
       "\n",
       "       ..., \n",
       "       [[0, 0, 0],\n",
       "        [0, 0, 0],\n",
       "        [0, 0, 0],\n",
       "        ..., \n",
       "        [0, 0, 0],\n",
       "        [0, 0, 0],\n",
       "        [0, 0, 0]],\n",
       "\n",
       "       [[0, 0, 0],\n",
       "        [0, 0, 0],\n",
       "        [0, 0, 0],\n",
       "        ..., \n",
       "        [0, 0, 0],\n",
       "        [0, 0, 0],\n",
       "        [0, 0, 0]],\n",
       "\n",
       "       [[0, 0, 0],\n",
       "        [0, 0, 0],\n",
       "        [0, 0, 0],\n",
       "        ..., \n",
       "        [0, 0, 0],\n",
       "        [0, 0, 0],\n",
       "        [0, 0, 0]]], dtype=uint8)"
      ]
     },
     "execution_count": 13,
     "metadata": {},
     "output_type": "execute_result"
    }
   ],
   "source": [
    "_images[0]"
   ]
  },
  {
   "cell_type": "code",
   "execution_count": 14,
   "metadata": {
    "collapsed": true
   },
   "outputs": [],
   "source": [
    "# 正規化\n",
    "images = np.array(_images, dtype=np.float32) / 255.0\n",
    "labels = np.array(_labels, dtype=np.int32)"
   ]
  },
  {
   "cell_type": "markdown",
   "metadata": {},
   "source": [
    "## chainerで扱えるようにRGBの層を手前に持ってくる"
   ]
  },
  {
   "cell_type": "code",
   "execution_count": 15,
   "metadata": {
    "collapsed": true
   },
   "outputs": [],
   "source": [
    "images = images.transpose(0,3,1,2)"
   ]
  },
  {
   "cell_type": "code",
   "execution_count": 17,
   "metadata": {},
   "outputs": [
    {
     "data": {
      "text/plain": [
       "(1000,)"
      ]
     },
     "execution_count": 17,
     "metadata": {},
     "output_type": "execute_result"
    }
   ],
   "source": [
    "images[0].shape\n",
    "labels.shape"
   ]
  },
  {
   "cell_type": "markdown",
   "metadata": {},
   "source": [
    "## 画像と正解ラベルのペアを作成する"
   ]
  },
  {
   "cell_type": "code",
   "execution_count": 18,
   "metadata": {
    "collapsed": true
   },
   "outputs": [],
   "source": [
    "x_train = chainer.datasets.TupleDataset(images, labels)"
   ]
  },
  {
   "cell_type": "code",
   "execution_count": 19,
   "metadata": {
    "scrolled": true
   },
   "outputs": [
    {
     "data": {
      "text/plain": [
       "(array([[[ 0.,  0.,  0., ...,  0.,  0.,  0.],\n",
       "         [ 0.,  0.,  0., ...,  0.,  0.,  0.],\n",
       "         [ 0.,  0.,  0., ...,  0.,  0.,  0.],\n",
       "         ..., \n",
       "         [ 0.,  0.,  0., ...,  0.,  0.,  0.],\n",
       "         [ 0.,  0.,  0., ...,  0.,  0.,  0.],\n",
       "         [ 0.,  0.,  0., ...,  0.,  0.,  0.]],\n",
       " \n",
       "        [[ 0.,  0.,  0., ...,  0.,  0.,  0.],\n",
       "         [ 0.,  0.,  0., ...,  0.,  0.,  0.],\n",
       "         [ 0.,  0.,  0., ...,  0.,  0.,  0.],\n",
       "         ..., \n",
       "         [ 0.,  0.,  0., ...,  0.,  0.,  0.],\n",
       "         [ 0.,  0.,  0., ...,  0.,  0.,  0.],\n",
       "         [ 0.,  0.,  0., ...,  0.,  0.,  0.]],\n",
       " \n",
       "        [[ 0.,  0.,  0., ...,  0.,  0.,  0.],\n",
       "         [ 0.,  0.,  0., ...,  0.,  0.,  0.],\n",
       "         [ 0.,  0.,  0., ...,  0.,  0.,  0.],\n",
       "         ..., \n",
       "         [ 0.,  0.,  0., ...,  0.,  0.,  0.],\n",
       "         [ 0.,  0.,  0., ...,  0.,  0.,  0.],\n",
       "         [ 0.,  0.,  0., ...,  0.,  0.,  0.]]], dtype=float32), 0)"
      ]
     },
     "execution_count": 19,
     "metadata": {},
     "output_type": "execute_result"
    }
   ],
   "source": [
    "x_train[0]"
   ]
  },
  {
   "cell_type": "markdown",
   "metadata": {},
   "source": [
    "## 入力に渡すiteratorの作成"
   ]
  },
  {
   "cell_type": "code",
   "execution_count": 20,
   "metadata": {
    "collapsed": true
   },
   "outputs": [],
   "source": [
    "train_iter = iterators.SerialIterator(x_train, batch_size=100, shuffle=True)"
   ]
  },
  {
   "cell_type": "markdown",
   "metadata": {},
   "source": [
    "## modelの作成"
   ]
  },
  {
   "cell_type": "code",
   "execution_count": 21,
   "metadata": {
    "collapsed": true
   },
   "outputs": [],
   "source": [
    "model = AlexNet()"
   ]
  },
  {
   "cell_type": "markdown",
   "metadata": {},
   "source": [
    "## 最適化手法の選択"
   ]
  },
  {
   "cell_type": "code",
   "execution_count": 22,
   "metadata": {
    "collapsed": true
   },
   "outputs": [],
   "source": [
    "optimizer = optimizers.Adam()\n",
    "optimizer.setup(model)"
   ]
  },
  {
   "cell_type": "markdown",
   "metadata": {},
   "source": [
    "## undaterとtrainerの作成\n",
    "device=0で処理が0番GPUに投げられるはず  \n",
    "訓練結果はresultディレクトリに作成されるはず"
   ]
  },
  {
   "cell_type": "code",
   "execution_count": 23,
   "metadata": {},
   "outputs": [
    {
     "name": "stderr",
     "output_type": "stream",
     "text": [
      "/home/c0115334ef/anaconda3/lib/python3.6/site-packages/chainer/cuda.py:84: UserWarning: cuDNN is not enabled.\n",
      "Please reinstall CuPy after you install cudnn\n",
      "(see https://docs-cupy.chainer.org/en/stable/install.html#install-cupy-with-cudnn-and-nccl).\n",
      "  'cuDNN is not enabled.\\n'\n"
     ]
    }
   ],
   "source": [
    "updater = training.StandardUpdater(train_iter, optimizer, device=0)"
   ]
  },
  {
   "cell_type": "code",
   "execution_count": 24,
   "metadata": {
    "collapsed": true
   },
   "outputs": [],
   "source": [
    "trainer = training.Trainer(updater, (100, 'epoch'), out='result')"
   ]
  },
  {
   "cell_type": "markdown",
   "metadata": {
    "collapsed": true
   },
   "source": [
    "## Logの出力設定"
   ]
  },
  {
   "cell_type": "code",
   "execution_count": 25,
   "metadata": {
    "collapsed": true
   },
   "outputs": [],
   "source": [
    "trainer.extend(extensions.LogReport())\n",
    "trainer.extend(extensions.PrintReport(['epoch', 'main/accuracy', 'main/loss']))\n",
    "trainer.extend(extensions.ProgressBar())"
   ]
  },
  {
   "cell_type": "code",
   "execution_count": 26,
   "metadata": {
    "scrolled": true
   },
   "outputs": [
    {
     "name": "stdout",
     "output_type": "stream",
     "text": [
      "epoch       main/accuracy  main/loss \n",
      "\u001b[J1           0.02           6.99057     \n",
      "\u001b[J2           0.025          6.89288     \n",
      "\u001b[J3           0.024          6.78959     \n",
      "\u001b[J4           0.021          6.76648     \n",
      "\u001b[J5           0.035          6.65859     \n",
      "\u001b[J6           0.062          6.58167     \n",
      "\u001b[J7           0.086          6.4814      \n",
      "\u001b[J8           0.095          6.4101      \n",
      "\u001b[J9           0.111          6.26995     \n",
      "\u001b[J10          0.109          6.23655     \n",
      "\u001b[J     total [#####.............................................] 10.00%\n",
      "this epoch [..................................................]  0.00%\n",
      "       100 iter, 10 epoch / 100 epochs\n",
      "       inf iters/sec. Estimated time to finish: 0:00:00.\n",
      "\u001b[4A\u001b[J11          0.109          6.21405     \n",
      "\u001b[J12          0.117          6.20052     \n",
      "\u001b[J13          0.135          6.11167     \n",
      "\u001b[J14          0.147          6.05223     \n",
      "\u001b[J15          0.139          6.10694     \n",
      "\u001b[J16          0.131          6.16232     \n",
      "\u001b[J17          0.125          6.20377     \n",
      "\u001b[J18          0.137          6.12061     \n",
      "\u001b[J19          0.127          6.18988     \n",
      "\u001b[J20          0.116          6.26612     \n",
      "\u001b[J     total [##########........................................] 20.00%\n",
      "this epoch [..................................................]  0.00%\n",
      "       200 iter, 20 epoch / 100 epochs\n",
      "    1.9066 iters/sec. Estimated time to finish: 0:06:59.587500.\n",
      "\u001b[4A\u001b[J21          0.129          6.17596     \n",
      "\u001b[J22          0.122          6.21756     \n",
      "\u001b[J23          0.137          6.1206      \n",
      "\u001b[J24          0.125          6.20376     \n",
      "\u001b[J25          0.115          6.27302     \n",
      "\u001b[J26          0.114          6.29232     \n",
      "\u001b[J27          0.128          6.17833     \n",
      "\u001b[J28          0.121          6.21691     \n",
      "\u001b[J29          0.117          6.19514     \n",
      "\u001b[J30          0.127          6.13959     \n",
      "\u001b[J     total [###############...................................] 30.00%\n",
      "this epoch [..................................................]  0.00%\n",
      "       300 iter, 30 epoch / 100 epochs\n",
      "    1.9059 iters/sec. Estimated time to finish: 0:06:07.275585.\n",
      "\u001b[4A\u001b[J31          0.116          6.21369     \n",
      "\u001b[J32          0.117          6.20382     \n",
      "\u001b[J33          0.129          6.1307      \n",
      "\u001b[J34          0.119          6.24633     \n",
      "\u001b[J35          0.12           6.20767     \n",
      "\u001b[J36          0.131          6.12803     \n",
      "\u001b[J37          0.135          6.13486     \n",
      "\u001b[J38          0.142          6.08592     \n",
      "\u001b[J39          0.125          6.16242     \n",
      "\u001b[J40          0.132          6.15548     \n",
      "\u001b[J     total [####################..............................] 40.00%\n",
      "this epoch [..................................................]  0.00%\n",
      "       400 iter, 40 epoch / 100 epochs\n",
      "     1.906 iters/sec. Estimated time to finish: 0:05:14.787769.\n",
      "\u001b[4A\u001b[J41          0.136          6.12757     \n",
      "\u001b[J42          0.131          6.1621      \n",
      "\u001b[J43          0.14           6.09982     \n",
      "\u001b[J44          0.145          6.05811     \n",
      "\u001b[J45          0.127          6.18981     \n",
      "\u001b[J46          0.14           6.09972     \n",
      "\u001b[J47          0.13           6.16901     \n",
      "\u001b[J48          0.126          6.19674     \n",
      "\u001b[J49          0.137          6.12049     \n",
      "\u001b[J50          0.126          6.19675     \n",
      "\u001b[J     total [#########################.........................] 50.00%\n",
      "this epoch [..................................................]  0.00%\n",
      "       500 iter, 50 epoch / 100 epochs\n",
      "    1.9065 iters/sec. Estimated time to finish: 0:04:22.254647.\n",
      "\u001b[4A\u001b[J51          0.135          6.13435     \n",
      "\u001b[J52          0.137          6.12049     \n",
      "\u001b[J53          0.138          6.11359     \n",
      "\u001b[J54          0.122          6.22446     \n",
      "\u001b[J55          0.118          6.25219     \n",
      "\u001b[J56          0.144          6.07197     \n",
      "\u001b[J57          0.128          6.18288     \n",
      "\u001b[J58          0.119          6.24528     \n",
      "\u001b[J59          0.142          6.08583     \n",
      "\u001b[J60          0.134          6.14129     \n",
      "\u001b[J     total [##############################....................] 60.00%\n",
      "this epoch [..................................................]  0.00%\n",
      "       600 iter, 60 epoch / 100 epochs\n",
      "    1.9071 iters/sec. Estimated time to finish: 0:03:29.744056.\n",
      "\u001b[4A\u001b[J61          0.139          6.10663     \n",
      "\u001b[J62          0.13           6.16901     \n",
      "\u001b[J63          0.127          6.18981     \n",
      "\u001b[J64          0.137          6.12049     \n",
      "\u001b[J65          0.139          6.10663     \n",
      "\u001b[J66          0.134          6.14128     \n",
      "\u001b[J67          0.129          6.17595     \n",
      "\u001b[J68          0.137          6.12049     \n",
      "\u001b[J69          0.139          6.10663     \n",
      "\u001b[J70          0.135          6.13436     \n",
      "\u001b[J     total [###################################...............] 70.00%\n",
      "this epoch [..................................................]  0.00%\n",
      "       700 iter, 70 epoch / 100 epochs\n",
      "    1.9074 iters/sec. Estimated time to finish: 0:02:37.283973.\n",
      "\u001b[4A\u001b[J71          0.136          6.12742     \n",
      "\u001b[J72          0.138          6.11357     \n",
      "\u001b[J73          0.114          6.27992     \n",
      "\u001b[J74          0.123          6.21753     \n",
      "\u001b[J75          0.123          6.21753     \n",
      "\u001b[J76          0.12           6.23832     \n",
      "\u001b[J77          0.133          6.14822     \n",
      "\u001b[J78          0.131          6.16208     \n",
      "\u001b[J79          0.12           6.23833     \n",
      "\u001b[J80          0.127          6.1898      \n",
      "\u001b[J     total [########################################..........] 80.00%\n",
      "this epoch [..................................................]  0.00%\n",
      "       800 iter, 80 epoch / 100 epochs\n",
      "    1.9076 iters/sec. Estimated time to finish: 0:01:44.843135.\n",
      "\u001b[4A\u001b[J81          0.123          6.21753     \n",
      "\u001b[J82          0.132          6.15515     \n",
      "\u001b[J83          0.118          6.25219     \n",
      "\u001b[J84          0.123          6.21754     \n",
      "\u001b[J85          0.14           6.0997      \n",
      "\u001b[J86          0.13           6.16901     \n",
      "\u001b[J87          0.123          6.21753     \n",
      "\u001b[J88          0.139          6.10663     \n",
      "\u001b[J89          0.137          6.12049     \n",
      "\u001b[J90          0.122          6.22446     \n",
      "\u001b[J     total [#############################################.....] 90.00%\n",
      "this epoch [..................................................]  0.00%\n",
      "       900 iter, 90 epoch / 100 epochs\n",
      "    1.9079 iters/sec. Estimated time to finish: 0:00:52.413361.\n",
      "\u001b[4A\u001b[J91          0.133          6.14822     \n",
      "\u001b[J92          0.134          6.14128     \n",
      "\u001b[J93          0.128          6.18287     \n",
      "\u001b[J94          0.126          6.1898      \n",
      "\u001b[J95          0.114          6.27991     \n",
      "\u001b[J96          0.128          6.18287     \n",
      "\u001b[J97          0.128          6.18287     \n",
      "\u001b[J98          0.125          6.20367     \n",
      "\u001b[J99          0.129          6.17594     \n",
      "\u001b[J100         0.136          6.12742     \n",
      "\u001b[J     total [##################################################] 100.00%\n",
      "this epoch [..................................................]  0.00%\n",
      "      1000 iter, 100 epoch / 100 epochs\n",
      "    1.9081 iters/sec. Estimated time to finish: 0:00:00.\n",
      "\u001b[4A\u001b[J"
     ]
    }
   ],
   "source": [
    "trainer.run()"
   ]
  },
  {
   "cell_type": "markdown",
   "metadata": {},
   "source": [
    "## 【祝】訓練データに対する判別率10%突破！"
   ]
  },
  {
   "cell_type": "code",
   "execution_count": null,
   "metadata": {
    "collapsed": true
   },
   "outputs": [],
   "source": []
  }
 ],
 "metadata": {
  "kernelspec": {
   "display_name": "Python 3",
   "language": "python",
   "name": "python3"
  },
  "language_info": {
   "codemirror_mode": {
    "name": "ipython",
    "version": 3
   },
   "file_extension": ".py",
   "mimetype": "text/x-python",
   "name": "python",
   "nbconvert_exporter": "python",
   "pygments_lexer": "ipython3",
   "version": "3.6.1"
  }
 },
 "nbformat": 4,
 "nbformat_minor": 2
}

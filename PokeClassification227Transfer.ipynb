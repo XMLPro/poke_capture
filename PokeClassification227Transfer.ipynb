{
 "cells": [
  {
   "cell_type": "markdown",
   "metadata": {},
   "source": [
    "## 必要なライブラリのインポート\n",
    "- numpy,chainer系\n",
    "- ファイル操作系\n",
    "- 画像操作\n",
    "- 転移学習のためのライブラリ(caffeモデル扱うやつ)"
   ]
  },
  {
   "cell_type": "code",
   "execution_count": 1,
   "metadata": {
    "collapsed": true
   },
   "outputs": [],
   "source": [
    "import numpy as np\n",
    "import chainer\n",
    "import chainer.functions as F\n",
    "import chainer.links as L\n",
    "from chainer import iterators, optimizers, training\n",
    "from chainer.training import extensions\n",
    "from chainer.cuda import to_cpu\n",
    "from chainer import cuda\n",
    "\n",
    "import os\n",
    "import glob\n",
    "from PIL import Image\n",
    "\n",
    "from chainer.links.caffe import CaffeFunction\n",
    "import _pickle as pickle"
   ]
  },
  {
   "cell_type": "markdown",
   "metadata": {},
   "source": [
    "## modelの定義(AlexNetぽい構造の何か)"
   ]
  },
  {
   "cell_type": "code",
   "execution_count": 2,
   "metadata": {
    "collapsed": true
   },
   "outputs": [],
   "source": [
    "# class AlexNet(chainer.Chain):\n",
    "# #     insize = 100\n",
    "#     def __init__(self):\n",
    "#         super(AlexNet, self).__init__(\n",
    "#             conv1=L.Convolution2D(3, 96, 11, stride=4),\n",
    "#             conv2=L.Convolution2D(96, 256, 5, pad=2),\n",
    "#             conv3=L.Convolution2D(256, 384, 3, pad=1),\n",
    "#             conv4=L.Convolution2D(384, 284, 3, pad=1),\n",
    "#             conv5=L.Convolution2D(284, 256, 3, pad=1),\n",
    "#             fc6=L.Linear(1024, 4096),\n",
    "#             fc7=L.Linear(4096, 1024),\n",
    "#             fc8=L.Linear(1024, 3),\n",
    "#         )\n",
    "\n",
    "#     def __call__(self, x, t=None):\n",
    "#         h = x\n",
    "#         h = F.max_pooling_2d(F.local_response_normalization(F.relu(self.conv1(h))), 3, stride=2)\n",
    "#         h = F.max_pooling_2d(F.local_response_normalization(F.relu(self.conv2(h))), 3, stride=2)\n",
    "#         h = F.relu(self.conv3(h))\n",
    "#         h = F.relu(self.conv4(h))\n",
    "#         h = F.max_pooling_2d(F.relu(self.conv5(h)), 3, stride=2)\n",
    "#         h = F.dropout(F.relu(self.fc6(h)))\n",
    "#         h = F.dropout(F.relu(self.fc7(h)))\n",
    "#         if t is not None:\n",
    "#             loss = F.softmax_cross_entropy(h, t)\n",
    "#             chainer.report({'loss': loss, 'accuracy': F.accuracy(h, t)}, self)\n",
    "#             return loss\n",
    "#         else:\n",
    "#             return to_cpu(F.softmax(self.fc8(h)).data)"
   ]
  },
  {
   "cell_type": "code",
   "execution_count": 3,
   "metadata": {
    "collapsed": true
   },
   "outputs": [],
   "source": [
    "class AlexNet(chainer.Chain):\n",
    "#     insize = 100\n",
    "    def __init__(self):\n",
    "        super(AlexNet, self).__init__(\n",
    "            conv1=L.Convolution2D(3, 96, 11, stride=4),\n",
    "            conv2=L.Convolution2D(96, 256, 5, pad=2),\n",
    "            conv3=L.Convolution2D(256, 384, 3, pad=1),\n",
    "            conv4=L.Convolution2D(384, 384, 3, pad=1),\n",
    "            conv5=L.Convolution2D(384, 256, 3, pad=1),\n",
    "            my_fc6=L.Linear(9216, 4096),\n",
    "            my_fc7=L.Linear(4096, 1024),\n",
    "            my_fc8=L.Linear(1024, 3),\n",
    "        )\n",
    "\n",
    "    def __call__(self, x, t=None):\n",
    "        h = x\n",
    "        h = F.max_pooling_2d(F.local_response_normalization(F.relu(self.conv1(h))), 3, stride=2)\n",
    "        h = F.max_pooling_2d(F.local_response_normalization(F.relu(self.conv2(h))), 3, stride=2)\n",
    "        h = F.relu(self.conv3(h))\n",
    "        h = F.relu(self.conv4(h))\n",
    "        h = F.max_pooling_2d(F.relu(self.conv5(h)), 3, stride=2)\n",
    "        h = F.dropout(F.relu(self.my_fc6(h)))\n",
    "        h = F.dropout(F.relu(self.my_fc7(h)))\n",
    "        if t is not None:\n",
    "            loss = F.softmax_cross_entropy(h, t)\n",
    "            chainer.report({'loss': loss, 'accuracy': F.accuracy(h, t)}, self)\n",
    "            return loss\n",
    "        else:\n",
    "            return to_cpu(F.softmax(self.my_fc8(h)).data)"
   ]
  },
  {
   "cell_type": "markdown",
   "metadata": {},
   "source": [
    "## データセットのディレクトリ名の取得\n",
    "以降、ディレクトリごとにラベルつけていく"
   ]
  },
  {
   "cell_type": "code",
   "execution_count": 4,
   "metadata": {
    "collapsed": true
   },
   "outputs": [],
   "source": [
    "dataset_dir = \"dataset\"\n",
    "# label_names = os.listdir(dataset_dir)\n",
    "label_names = [\"105-1\", \"445-0\", \"798-0\"]"
   ]
  },
  {
   "cell_type": "code",
   "execution_count": 5,
   "metadata": {
    "collapsed": true,
    "scrolled": true
   },
   "outputs": [],
   "source": [
    "# label_names = label_names[0:3]"
   ]
  },
  {
   "cell_type": "code",
   "execution_count": 6,
   "metadata": {
    "collapsed": true
   },
   "outputs": [],
   "source": [
    "_labels = []\n",
    "_images = []"
   ]
  },
  {
   "cell_type": "code",
   "execution_count": 7,
   "metadata": {
    "collapsed": true
   },
   "outputs": [],
   "source": [
    "for i, label in enumerate(label_names):\n",
    "    for f in glob.glob(\"%s/%s/*\"%(dataset_dir,label)):\n",
    "        img = Image.open(f)\n",
    "        img = np.array(img.resize((227,227)))\n",
    "        for j in range(10):\n",
    "            _labels.append(i)\n",
    "            _images.append(img)"
   ]
  },
  {
   "cell_type": "code",
   "execution_count": 8,
   "metadata": {
    "scrolled": true
   },
   "outputs": [
    {
     "data": {
      "text/plain": [
       "<matplotlib.image.AxesImage at 0x7f1f345a5240>"
      ]
     },
     "execution_count": 8,
     "metadata": {},
     "output_type": "execute_result"
    },
    {
     "data": {
      "image/png": "[encoded data removed]",
      "text/plain": [
       "<matplotlib.figure.Figure at 0x7f1f3a499ef0>"
      ]
     },
     "metadata": {},
     "output_type": "display_data"
    }
   ],
   "source": [
    "import matplotlib.pyplot as plt\n",
    "%matplotlib inline\n",
    "plt.imshow(_images[0])"
   ]
  },
  {
   "cell_type": "code",
   "execution_count": 9,
   "metadata": {
    "collapsed": true
   },
   "outputs": [],
   "source": [
    "# 正規化\n",
    "images = np.array(_images, dtype=np.float32) / 255.0\n",
    "labels = np.array(_labels, dtype=np.int32)"
   ]
  },
  {
   "cell_type": "markdown",
   "metadata": {},
   "source": [
    "## chainerで扱えるようにRGBの層を手前に持ってくる"
   ]
  },
  {
   "cell_type": "code",
   "execution_count": 10,
   "metadata": {
    "collapsed": true
   },
   "outputs": [],
   "source": [
    "images = images.transpose(0,3,1,2)"
   ]
  },
  {
   "cell_type": "code",
   "execution_count": 11,
   "metadata": {},
   "outputs": [
    {
     "data": {
      "text/plain": [
       "(210,)"
      ]
     },
     "execution_count": 11,
     "metadata": {},
     "output_type": "execute_result"
    }
   ],
   "source": [
    "images[0].shape\n",
    "labels.shape"
   ]
  },
  {
   "cell_type": "markdown",
   "metadata": {},
   "source": [
    "## 画像と正解ラベルのペアを作成する"
   ]
  },
  {
   "cell_type": "code",
   "execution_count": 12,
   "metadata": {
    "collapsed": true
   },
   "outputs": [],
   "source": [
    "x_train = chainer.datasets.TupleDataset(images, labels)"
   ]
  },
  {
   "cell_type": "code",
   "execution_count": 13,
   "metadata": {
    "scrolled": true
   },
   "outputs": [
    {
     "data": {
      "text/plain": [
       "(array([[[ 0.33725491,  0.33725491,  0.31764707, ...,  0.26666668,\n",
       "           0.26274511,  0.26274511],\n",
       "         [ 0.33725491,  0.33725491,  0.31764707, ...,  0.26666668,\n",
       "           0.26274511,  0.26274511],\n",
       "         [ 0.44313726,  0.44313726,  0.41568628, ...,  0.32156864,\n",
       "           0.31764707,  0.31764707],\n",
       "         ..., \n",
       "         [ 0.38039216,  0.38039216,  0.41176471, ...,  0.40784314,\n",
       "           0.41176471,  0.41176471],\n",
       "         [ 0.50588238,  0.50588238,  0.52941179, ...,  0.40000001,\n",
       "           0.40784314,  0.40784314],\n",
       "         [ 0.50588238,  0.50588238,  0.52941179, ...,  0.40000001,\n",
       "           0.40784314,  0.40784314]],\n",
       " \n",
       "        [[ 0.49803922,  0.49803922,  0.47450981, ...,  0.43921569,\n",
       "           0.43529412,  0.43529412],\n",
       "         [ 0.49803922,  0.49803922,  0.47450981, ...,  0.43921569,\n",
       "           0.43529412,  0.43529412],\n",
       "         [ 0.59215689,  0.59215689,  0.57647061, ...,  0.49411765,\n",
       "           0.49019608,  0.49019608],\n",
       "         ..., \n",
       "         [ 0.53333336,  0.53333336,  0.56862748, ...,  0.56078434,\n",
       "           0.56470591,  0.56470591],\n",
       "         [ 0.65098041,  0.65098041,  0.67843139, ...,  0.5529412 ,\n",
       "           0.56078434,  0.56078434],\n",
       "         [ 0.65098041,  0.65098041,  0.67843139, ...,  0.5529412 ,\n",
       "           0.56078434,  0.56078434]],\n",
       " \n",
       "        [[ 0.81960785,  0.81960785,  0.80784315, ...,  0.78823531,\n",
       "           0.78431374,  0.78431374],\n",
       "         [ 0.81960785,  0.81960785,  0.80784315, ...,  0.78823531,\n",
       "           0.78431374,  0.78431374],\n",
       "         [ 0.91764706,  0.91764706,  0.89803922, ...,  0.83529413,\n",
       "           0.83137256,  0.83137256],\n",
       "         ..., \n",
       "         [ 0.78823531,  0.78823531,  0.80784315, ...,  0.81568629,\n",
       "           0.81960785,  0.81960785],\n",
       "         [ 0.95686275,  0.95686275,  0.96470588, ...,  0.80784315,\n",
       "           0.81568629,  0.81568629],\n",
       "         [ 0.95686275,  0.95686275,  0.96470588, ...,  0.80784315,\n",
       "           0.81568629,  0.81568629]]], dtype=float32), 0)"
      ]
     },
     "execution_count": 13,
     "metadata": {},
     "output_type": "execute_result"
    }
   ],
   "source": [
    "x_train[0]"
   ]
  },
  {
   "cell_type": "markdown",
   "metadata": {},
   "source": [
    "## 入力に渡すiteratorの作成"
   ]
  },
  {
   "cell_type": "code",
   "execution_count": 14,
   "metadata": {
    "collapsed": true
   },
   "outputs": [],
   "source": [
    "train_iter = iterators.SerialIterator(x_train, batch_size=30, shuffle=True)"
   ]
  },
  {
   "cell_type": "markdown",
   "metadata": {},
   "source": [
    "## AlexNetの学習済みcaffeモデルの読み込みとpickleファイルの保存"
   ]
  },
  {
   "cell_type": "code",
   "execution_count": 15,
   "metadata": {
    "collapsed": true
   },
   "outputs": [],
   "source": [
    "# alexnet = CaffeFunction(\"bvlc_alexnet.caffemodel\")"
   ]
  },
  {
   "cell_type": "code",
   "execution_count": 16,
   "metadata": {
    "collapsed": true
   },
   "outputs": [],
   "source": [
    "# pickle.dump(alexnet, open(\"./chainermodels/alexnet.pkl\", 'wb'))"
   ]
  },
  {
   "cell_type": "markdown",
   "metadata": {},
   "source": [
    "## モデルの重みをコピーするための関数"
   ]
  },
  {
   "cell_type": "code",
   "execution_count": 17,
   "metadata": {
    "collapsed": true
   },
   "outputs": [],
   "source": [
    "def copy_model(src, dst):\n",
    "    assert isinstance(src, chainer.Chain)\n",
    "    assert isinstance(src, chainer.Chain)\n",
    "    for child in src.children():\n",
    "        if child.name not in dst.__dict__: continue\n",
    "        dst_child = dst[child.name]\n",
    "        if type(child) != type(dst_child): continue\n",
    "        if isinstance(child, chainer.Chain):\n",
    "            copy_model(child, dst_child)\n",
    "        if isinstance(child, chainer.Link):\n",
    "            match = True\n",
    "            for a, b in zip(child.namedparams(), dst_child.namedparams()):\n",
    "                if a[0] != b[0]:\n",
    "                    match = False\n",
    "                    break\n",
    "                if a[1].data.shape != b[1].data.shape:\n",
    "                    match = False\n",
    "                    break\n",
    "                if not match:\n",
    "                    print('Ignore %s because of parameter mismatch' % child.name)\n",
    "                    continue\n",
    "                for a, b in zip (child.namedparams(), dst_child.namedparams()):\n",
    "                    b[1].data = a[1].data\n",
    "                    print('Copy %s' % child.name)\n",
    "            "
   ]
  },
  {
   "cell_type": "markdown",
   "metadata": {},
   "source": [
    "## modelの作成"
   ]
  },
  {
   "cell_type": "code",
   "execution_count": 18,
   "metadata": {
    "collapsed": true
   },
   "outputs": [],
   "source": [
    "model = AlexNet()"
   ]
  },
  {
   "cell_type": "code",
   "execution_count": 19,
   "metadata": {
    "collapsed": true
   },
   "outputs": [],
   "source": [
    "# trained_model = pickle.load(open(\"./chainermodels/alexnet.pkl\", \"rb\"))"
   ]
  },
  {
   "cell_type": "markdown",
   "metadata": {},
   "source": [
    "## modelの重みをコピー"
   ]
  },
  {
   "cell_type": "code",
   "execution_count": 20,
   "metadata": {
    "collapsed": true,
    "scrolled": true
   },
   "outputs": [],
   "source": [
    "# copy_model(trained_model, model)"
   ]
  },
  {
   "cell_type": "code",
   "execution_count": 21,
   "metadata": {},
   "outputs": [
    {
     "data": {
      "text/plain": [
       "(3, 1024)"
      ]
     },
     "execution_count": 21,
     "metadata": {},
     "output_type": "execute_result"
    }
   ],
   "source": [
    "model.my_fc8.W.shape"
   ]
  },
  {
   "cell_type": "code",
   "execution_count": 22,
   "metadata": {
    "collapsed": true
   },
   "outputs": [],
   "source": [
    "# trained_model.fc8.W.shape"
   ]
  },
  {
   "cell_type": "markdown",
   "metadata": {},
   "source": [
    "## 重みとバイアスを固定するための関数"
   ]
  },
  {
   "cell_type": "code",
   "execution_count": 23,
   "metadata": {
    "collapsed": true
   },
   "outputs": [],
   "source": [
    "class DelGradient(object):\n",
    "    name = 'DelGradient'\n",
    "    def __init__(self, delTgt):\n",
    "        self.delTgt = delTgt\n",
    "\n",
    "    def __call__(self, opt):\n",
    "        for name,param in opt.target.namedparams():\n",
    "            for d in self.delTgt:\n",
    "                if d in name:\n",
    "                    grad = param.grad\n",
    "                    with cuda.get_device(grad):\n",
    "                        grad *= 0"
   ]
  },
  {
   "cell_type": "markdown",
   "metadata": {},
   "source": [
    "## 最適化手法の選択"
   ]
  },
  {
   "cell_type": "code",
   "execution_count": 24,
   "metadata": {
    "collapsed": true
   },
   "outputs": [],
   "source": [
    "optimizer = optimizers.Adam()\n",
    "optimizer.setup(model)\n",
    "# optimizer.add_hook(DelGradient([\"conv1\", \"conv2\", \"conv3\", \"conv4\", \"conv5\"]))"
   ]
  },
  {
   "cell_type": "markdown",
   "metadata": {},
   "source": [
    "## undaterとtrainerの作成\n",
    "device=0で処理が0番GPUに投げられるはず  \n",
    "訓練結果はresultディレクトリに作成されるはず"
   ]
  },
  {
   "cell_type": "code",
   "execution_count": 25,
   "metadata": {},
   "outputs": [
    {
     "name": "stderr",
     "output_type": "stream",
     "text": [
      "/home/c0115334ef/anaconda3/lib/python3.6/site-packages/chainer/cuda.py:84: UserWarning: cuDNN is not enabled.\n",
      "Please reinstall CuPy after you install cudnn\n",
      "(see https://docs-cupy.chainer.org/en/stable/install.html#install-cupy-with-cudnn-and-nccl).\n",
      "  'cuDNN is not enabled.\\n'\n"
     ]
    }
   ],
   "source": [
    "updater = training.StandardUpdater(train_iter, optimizer, device=0)"
   ]
  },
  {
   "cell_type": "code",
   "execution_count": 26,
   "metadata": {
    "collapsed": true
   },
   "outputs": [],
   "source": [
    "trainer = training.Trainer(updater, (100, 'epoch'), out='result')"
   ]
  },
  {
   "cell_type": "markdown",
   "metadata": {
    "collapsed": true
   },
   "source": [
    "## Logの出力設定"
   ]
  },
  {
   "cell_type": "code",
   "execution_count": 27,
   "metadata": {
    "collapsed": true
   },
   "outputs": [],
   "source": [
    "trainer.extend(extensions.LogReport())\n",
    "trainer.extend(extensions.PrintReport(['epoch', 'main/accuracy', 'main/loss']))\n",
    "trainer.extend(extensions.ProgressBar())"
   ]
  },
  {
   "cell_type": "code",
   "execution_count": 28,
   "metadata": {
    "scrolled": true
   },
   "outputs": [
    {
     "name": "stdout",
     "output_type": "stream",
     "text": [
      "epoch       main/accuracy  main/loss \n",
      "\u001b[J1           0.261905       7.86346     \n",
      "\u001b[J2           0.309524       6.03965     \n",
      "\u001b[J3           0.347619       5.53524     \n",
      "\u001b[J4           0.333333       5.34913     \n",
      "\u001b[J5           0.319048       5.41455     \n",
      "\u001b[J6           0.371429       4.76721     \n",
      "\u001b[J7           0.361905       5.40091     \n",
      "\u001b[J8           0.32381        5.48803     \n",
      "\u001b[J9           0.347619       5.22943     \n",
      "\u001b[J10          0.314286       5.41684     \n",
      "\u001b[J11          0.32381        5.37676     \n",
      "\u001b[J12          0.347619       5.26209     \n",
      "\u001b[J13          0.357143       5.33777     \n",
      "\u001b[J14          0.380952       4.99636     \n",
      "\u001b[J     total [#######...........................................] 14.29%\n",
      "this epoch [##############....................................] 28.57%\n",
      "       100 iter, 14 epoch / 100 epochs\n",
      "       inf iters/sec. Estimated time to finish: 0:00:00.\n",
      "\u001b[4A\u001b[J15          0.390476       5.11611     \n",
      "\u001b[J16          0.404762       4.82923     \n",
      "\u001b[J17          0.352381       5.12559     \n",
      "\u001b[J18          0.419048       4.73606     \n",
      "\u001b[J19          0.414286       4.97745     \n",
      "\u001b[J20          0.457143       4.75977     \n",
      "\u001b[J21          0.409524       4.72312     \n",
      "\u001b[J22          0.514286       4.58853     \n",
      "\u001b[J23          0.495238       4.45609     \n",
      "\u001b[J24          0.495238       4.62101     \n",
      "\u001b[J25          0.609524       3.87398     \n",
      "\u001b[J26          0.552381       3.99117     \n",
      "\u001b[J27          0.538095       3.69931     \n",
      "\u001b[J28          0.547619       3.78522     \n",
      "\u001b[J     total [##############....................................] 28.57%\n",
      "this epoch [############################......................] 57.14%\n",
      "       200 iter, 28 epoch / 100 epochs\n",
      "    7.1378 iters/sec. Estimated time to finish: 0:01:10.049591.\n",
      "\u001b[4A\u001b[J29          0.609524       3.38301     \n",
      "\u001b[J30          0.604762       3.46808     \n",
      "\u001b[J31          0.542857       4.22594     \n",
      "\u001b[J32          0.666667       3.36693     \n",
      "\u001b[J33          0.642857       3.53217     \n",
      "\u001b[J34          0.614286       3.49879     \n",
      "\u001b[J35          0.666667       3.39977     \n",
      "\u001b[J36          0.695238       3.3008      \n",
      "\u001b[J37          0.661905       3.59778     \n",
      "\u001b[J38          0.647619       3.59779     \n",
      "\u001b[J39          0.604762       3.92786     \n",
      "\u001b[J40          0.680952       3.2677      \n",
      "\u001b[J41          0.647619       3.72983     \n",
      "\u001b[J42          0.666667       3.46574     \n",
      "\u001b[J     total [#####################.............................] 42.86%\n",
      "this epoch [##########################################........] 85.71%\n",
      "       300 iter, 42 epoch / 100 epochs\n",
      "     7.127 iters/sec. Estimated time to finish: 0:00:56.124221.\n",
      "\u001b[4A\u001b[J43          0.657143       3.63078     \n",
      "\u001b[J44          0.695238       3.36672     \n",
      "\u001b[J45          0.7            3.43275     \n",
      "\u001b[J46          0.685714       3.33371     \n",
      "\u001b[J47          0.671429       3.43273     \n",
      "\u001b[J48          0.647619       3.72979     \n",
      "\u001b[J49          0.695238       3.13567     \n",
      "\u001b[J50          0.619048       3.7298      \n",
      "\u001b[J51          0.671429       3.69679     \n",
      "\u001b[J52          0.671429       3.63077     \n",
      "\u001b[J53          0.62381        3.59777     \n",
      "\u001b[J54          0.704762       3.20168     \n",
      "\u001b[J55          0.666667       3.36672     \n",
      "\u001b[J56          0.657143       3.49875     \n",
      "\u001b[J57          0.647619       3.39973     \n",
      "\u001b[J     total [############################......................] 57.14%\n",
      "this epoch [#######...........................................] 14.29%\n",
      "       400 iter, 57 epoch / 100 epochs\n",
      "    6.9606 iters/sec. Estimated time to finish: 0:00:43.099813.\n",
      "\u001b[4A\u001b[J58          0.652381       3.33371     \n",
      "\u001b[J59          0.704762       3.39973     \n",
      "\u001b[J60          0.67619        3.33371     \n",
      "\u001b[J61          0.685714       3.39973     \n",
      "\u001b[J62          0.628571       3.96084     \n",
      "\u001b[J63          0.628572       3.66378     \n",
      "\u001b[J64          0.738095       2.8386      \n",
      "\u001b[J65          0.657143       3.36672     \n",
      "\u001b[J66          0.680952       3.39972     \n",
      "\u001b[J67          0.623809       3.66378     \n",
      "\u001b[J68          0.680952       3.59776     \n",
      "\u001b[J69          0.614286       3.69679     \n",
      "\u001b[J70          0.638095       3.7628      \n",
      "\u001b[J71          0.666667       3.39972     \n",
      "\u001b[J     total [###################################...............] 71.43%\n",
      "this epoch [#####################.............................] 42.86%\n",
      "       500 iter, 71 epoch / 100 epochs\n",
      "    6.9894 iters/sec. Estimated time to finish: 0:00:28.614706.\n",
      "\u001b[4A\u001b[J72          0.685714       3.26769     \n",
      "\u001b[J73          0.685714       3.3007      \n",
      "\u001b[J74          0.680952       2.97063     \n",
      "\u001b[J75          0.695238       3.16867     \n",
      "\u001b[J76          0.619048       3.66378     \n",
      "\u001b[J77          0.685714       3.16868     \n",
      "\u001b[J78          0.685714       3.26769     \n",
      "\u001b[J79          0.671429       3.46574     \n",
      "\u001b[J80          0.642857       3.56476     \n",
      "\u001b[J81          0.657143       3.56476     \n",
      "\u001b[J82          0.647619       3.36672     \n",
      "\u001b[J83          0.642857       3.56476     \n",
      "\u001b[J84          0.652381       3.53175     \n",
      "\u001b[J85          0.647619       3.59776     \n",
      "\u001b[J     total [##########################################........] 85.71%\n",
      "this epoch [###################################...............] 71.43%\n",
      "       600 iter, 85 epoch / 100 epochs\n",
      "    7.0052 iters/sec. Estimated time to finish: 0:00:14.275081.\n",
      "\u001b[4A\u001b[J86          0.685714       3.23469     \n",
      "\u001b[J87          0.619048       3.59776     \n",
      "\u001b[J88          0.704762       3.20168     \n",
      "\u001b[J89          0.657143       3.63077     \n",
      "\u001b[J90          0.666667       3.46574     \n",
      "\u001b[J91          0.628571       3.56476     \n",
      "\u001b[J92          0.628571       3.53175     \n",
      "\u001b[J93          0.638095       3.63079     \n",
      "\u001b[J94          0.680952       3.26769     \n",
      "\u001b[J95          0.642857       3.86182     \n",
      "\u001b[J96          0.652381       3.72979     \n",
      "\u001b[J97          0.661905       3.36672     \n",
      "\u001b[J98          0.671429       3.49875     \n",
      "\u001b[J99          0.661905       3.33371     \n",
      "\u001b[J100         0.642857       3.59777     \n",
      "\u001b[J     total [##################################################] 100.00%\n",
      "this epoch [..................................................]  0.00%\n",
      "       700 iter, 100 epoch / 100 epochs\n",
      "     6.941 iters/sec. Estimated time to finish: 0:00:00.\n",
      "\u001b[4A\u001b[J"
     ]
    }
   ],
   "source": [
    "trainer.run()"
   ]
  },
  {
   "cell_type": "markdown",
   "metadata": {},
   "source": [
    "## テスト"
   ]
  },
  {
   "cell_type": "code",
   "execution_count": 76,
   "metadata": {},
   "outputs": [
    {
     "name": "stdout",
     "output_type": "stream",
     "text": [
      "true_label 0\n",
      "network's output\n"
     ]
    },
    {
     "data": {
      "text/plain": [
       "array([[ 0.2521244 ,  0.29957822,  0.44829738]], dtype=float32)"
      ]
     },
     "execution_count": 76,
     "metadata": {},
     "output_type": "execute_result"
    },
    {
     "data": {
      "image/png": "[encoded data removed]",
      "text/plain": [
       "<matplotlib.figure.Figure at 0x7f1f3384fa58>"
      ]
     },
     "metadata": {},
     "output_type": "display_data"
    }
   ],
   "source": [
    "img, label = x_train[0]\n",
    "model.train=False\n",
    "cuda.check_cuda_available()\n",
    "cuda.get_device(0).use()\n",
    "xp = cuda.cupy\n",
    "img = Image.open(\"./dataset/445-0.jpg\").resize((227,227))\n",
    "img = np.array(img, dtype=np.float32) / 255\n",
    "img = img.transpose(2,0,1)\n",
    "plt.imshow(img.transpose(1,2,0))\n",
    "\n",
    "print(\"true_label\",label)\n",
    "print(\"network's output\")\n",
    "out = model(xp.asarray(img[None,:]))\n",
    "out"
   ]
  },
  {
   "cell_type": "code",
   "execution_count": 62,
   "metadata": {
    "collapsed": true
   },
   "outputs": [],
   "source": [
    "# chainer.serializers.save_npz(\"20permodel.npz\", model)"
   ]
  },
  {
   "cell_type": "code",
   "execution_count": null,
   "metadata": {
    "collapsed": true
   },
   "outputs": [],
   "source": []
  }
 ],
 "metadata": {
  "kernelspec": {
   "display_name": "Python 3",
   "language": "python",
   "name": "python3"
  },
  "language_info": {
   "codemirror_mode": {
    "name": "ipython",
    "version": 3
   },
   "file_extension": ".py",
   "mimetype": "text/x-python",
   "name": "python",
   "nbconvert_exporter": "python",
   "pygments_lexer": "ipython3",
   "version": "3.6.1"
  }
 },
 "nbformat": 4,
 "nbformat_minor": 2
}

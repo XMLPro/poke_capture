{
 "cells": [
  {
   "cell_type": "code",
   "execution_count": 1,
   "metadata": {
    "collapsed": true
   },
   "outputs": [],
   "source": [
    "import os\n",
    "import PIL.Image as Image\n",
    "import numpy as np\n",
    "import matplotlib.pyplot as plt\n",
    "%matplotlib inline"
   ]
  },
  {
   "cell_type": "code",
   "execution_count": 42,
   "metadata": {
    "collapsed": true
   },
   "outputs": [],
   "source": [
    "dirs = os.listdir(\"pokemons/\")"
   ]
  },
  {
   "cell_type": "code",
   "execution_count": 43,
   "metadata": {
    "collapsed": true
   },
   "outputs": [],
   "source": [
    "for f in files:\n",
    "    img = Image.open(\"./pokemons/\" + f + \".jpg\")\n",
    "    img = img.convert(\"RGBA\")\n",
    "    img.save(\"./items/\" + f + \".png\", \"png\")"
   ]
  },
  {
   "cell_type": "code",
   "execution_count": 44,
   "metadata": {
    "collapsed": true
   },
   "outputs": [],
   "source": [
    "img = Image.open(\"./items/105-1.png\")"
   ]
  },
  {
   "cell_type": "code",
   "execution_count": 45,
   "metadata": {},
   "outputs": [
    {
     "data": {
      "text/plain": [
       "(100, 100, 4)"
      ]
     },
     "execution_count": 45,
     "metadata": {},
     "output_type": "execute_result"
    }
   ],
   "source": [
    "np.array(img).shape"
   ]
  },
  {
   "cell_type": "code",
   "execution_count": 21,
   "metadata": {
    "collapsed": true
   },
   "outputs": [],
   "source": [
    "files = []\n",
    "for f in dirs:\n",
    "    f = f.replace(\".jpg\", \"\")\n",
    "    files.append(f)"
   ]
  },
  {
   "cell_type": "code",
   "execution_count": 22,
   "metadata": {},
   "outputs": [
    {
     "data": {
      "text/plain": [
       "['530-0',\n",
       " '233-0',\n",
       " '89-1',\n",
       " '286-0',\n",
       " '645-1',\n",
       " '115-0',\n",
       " '637-0',\n",
       " '59-0',\n",
       " '798-0',\n",
       " '787-0',\n",
       " '681-0',\n",
       " '248-0',\n",
       " '260-0',\n",
       " '635-0',\n",
       " '497-0',\n",
       " '279-0',\n",
       " '479-2',\n",
       " '184-0',\n",
       " '143-0',\n",
       " '797-0',\n",
       " '105-1',\n",
       " '793-0',\n",
       " '38-1',\n",
       " '788-0',\n",
       " '145-0',\n",
       " '373-0',\n",
       " '598-0',\n",
       " '376-0',\n",
       " '450-0',\n",
       " '786-0',\n",
       " '6-0',\n",
       " '473-0',\n",
       " '448-0',\n",
       " '778-0',\n",
       " '642-1',\n",
       " '488-0',\n",
       " '445-0',\n",
       " '130-0',\n",
       " '94-0',\n",
       " '149-0',\n",
       " '212-0',\n",
       " '785-0',\n",
       " '658-0',\n",
       " '257-0',\n",
       " '472-0',\n",
       " '428-0',\n",
       " '303-0',\n",
       " '730-0',\n",
       " '3-0',\n",
       " '485-0']"
      ]
     },
     "execution_count": 22,
     "metadata": {},
     "output_type": "execute_result"
    }
   ],
   "source": [
    "files"
   ]
  },
  {
   "cell_type": "code",
   "execution_count": null,
   "metadata": {
    "collapsed": true
   },
   "outputs": [],
   "source": []
  }
 ],
 "metadata": {
  "kernelspec": {
   "display_name": "Python 3",
   "language": "python",
   "name": "python3"
  },
  "language_info": {
   "codemirror_mode": {
    "name": "ipython",
    "version": 3
   },
   "file_extension": ".py",
   "mimetype": "text/x-python",
   "name": "python",
   "nbconvert_exporter": "python",
   "pygments_lexer": "ipython3",
   "version": "3.6.1"
  }
 },
 "nbformat": 4,
 "nbformat_minor": 2
}

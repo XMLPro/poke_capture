{
 "cells": [
  {
   "cell_type": "code",
   "execution_count": 1,
   "metadata": {
    "collapsed": true
   },
   "outputs": [],
   "source": [
    "import numpy as np\n",
    "import chainer\n",
    "import chainer.functions as F\n",
    "import chainer.links as L\n",
    "from chainer import iterators, optimizers, training, initializers\n",
    "from chainer.training import extensions\n",
    "from chainer.cuda import to_cpu\n",
    "\n",
    "import cv2\n",
    "import os\n",
    "import glob\n",
    "from PIL import Image, ImageOps\n",
    "\n",
    "import DataAug"
   ]
  },
  {
   "cell_type": "code",
   "execution_count": 2,
   "metadata": {
    "collapsed": true
   },
   "outputs": [],
   "source": [
    "class BottleNeckA(chainer.Chain):\n",
    "\n",
    "    def __init__(self, in_size, ch, out_size, stride=2):\n",
    "        super(BottleNeckA, self).__init__()\n",
    "        initialW = initializers.HeNormal()\n",
    "\n",
    "        with self.init_scope():\n",
    "            self.conv1 = L.Convolution2D(\n",
    "                in_size, ch, 1, stride, 0, initialW=initialW, nobias=True)\n",
    "            self.bn1 = L.BatchNormalization(ch)\n",
    "            self.conv2 = L.Convolution2D(\n",
    "                ch, ch, 3, 1, 1, initialW=initialW, nobias=True)\n",
    "            self.bn2 = L.BatchNormalization(ch)\n",
    "            self.conv3 = L.Convolution2D(\n",
    "                ch, out_size, 1, 1, 0, initialW=initialW, nobias=True)\n",
    "            self.bn3 = L.BatchNormalization(out_size)\n",
    "\n",
    "            self.conv4 = L.Convolution2D(\n",
    "                in_size, out_size, 1, stride, 0,\n",
    "                initialW=initialW, nobias=True)\n",
    "            self.bn4 = L.BatchNormalization(out_size)\n",
    "\n",
    "    def __call__(self, x):\n",
    "        h1 = F.relu(self.bn1(self.conv1(x)))\n",
    "        h1 = F.relu(self.bn2(self.conv2(h1)))\n",
    "        h1 = self.bn3(self.conv3(h1))\n",
    "        h2 = self.bn4(self.conv4(x))\n",
    "\n",
    "        return F.relu(h1 + h2)\n",
    "\n",
    "\n",
    "class BottleNeckB(chainer.Chain):\n",
    "\n",
    "    def __init__(self, in_size, ch):\n",
    "        super(BottleNeckB, self).__init__()\n",
    "        initialW = initializers.HeNormal()\n",
    "\n",
    "        with self.init_scope():\n",
    "            self.conv1 = L.Convolution2D(\n",
    "                in_size, ch, 1, 1, 0, initialW=initialW, nobias=True)\n",
    "            self.bn1 = L.BatchNormalization(ch)\n",
    "            self.conv2 = L.Convolution2D(\n",
    "                ch, ch, 3, 1, 1, initialW=initialW, nobias=True)\n",
    "            self.bn2 = L.BatchNormalization(ch)\n",
    "            self.conv3 = L.Convolution2D(\n",
    "                ch, in_size, 1, 1, 0, initialW=initialW, nobias=True)\n",
    "            self.bn3 = L.BatchNormalization(in_size)\n",
    "\n",
    "    def __call__(self, x):\n",
    "        h = F.relu(self.bn1(self.conv1(x)))\n",
    "        h = F.relu(self.bn2(self.conv2(h)))\n",
    "        h = self.bn3(self.conv3(h))\n",
    "\n",
    "        return F.relu(h + x)\n",
    "\n",
    "\n",
    "class Block(chainer.ChainList):\n",
    "\n",
    "    def __init__(self, layer, in_size, ch, out_size, stride=2):\n",
    "        super(Block, self).__init__()\n",
    "        self.add_link(BottleNeckA(in_size, ch, out_size, stride))\n",
    "        for i in range(layer - 1):\n",
    "            self.add_link(BottleNeckB(out_size, ch))\n",
    "\n",
    "    def __call__(self, x):\n",
    "        for f in self.children():\n",
    "            x = f(x)\n",
    "        return x\n",
    "\n",
    "\n",
    "class ResNet50(chainer.Chain):\n",
    "\n",
    "    insize = 224\n",
    "\n",
    "    def __init__(self, out_n):\n",
    "        super(ResNet50, self).__init__()\n",
    "        with self.init_scope():\n",
    "            self.conv1 = L.Convolution2D(\n",
    "                3, 64, 7, 2, 3, initialW=initializers.HeNormal())\n",
    "            self.bn1 = L.BatchNormalization(64)\n",
    "            self.res2 = Block(3, 64, 64, 256, 1)\n",
    "            self.res3 = Block(4, 256, 128, 512)\n",
    "            self.res4 = Block(6, 512, 256, 1024)\n",
    "            self.res5 = Block(3, 1024, 512, 2048)\n",
    "            self.fc = L.Linear(2048, out_n)\n",
    "\n",
    "    def __call__(self, x, t=None):\n",
    "        h = self.bn1(self.conv1(x))\n",
    "        h = F.max_pooling_2d(F.relu(h), 3, stride=2)\n",
    "        h = self.res2(h)\n",
    "        h = self.res3(h)\n",
    "        h = self.res4(h)\n",
    "        h = self.res5(h)\n",
    "        h = F.average_pooling_2d(h, 7, stride=1)\n",
    "        h = self.fc(h)\n",
    "        if t is not None:\n",
    "            loss = F.softmax_cross_entropy(h, t)\n",
    "            chainer.report({'loss': loss, 'accuracy': F.accuracy(h, t)}, self)\n",
    "            return loss\n",
    "        else:\n",
    "            return to_cpu(F.softmax(h).data)\n"
   ]
  },
  {
   "cell_type": "code",
   "execution_count": 3,
   "metadata": {
    "collapsed": true
   },
   "outputs": [],
   "source": [
    "dataset_dir = \"orange_data\"\n",
    "# label_names = os.listdir(dataset_dir)\n",
    "# label_names = [\"778-0\", \"785-0\", \"786-0\", \"130-0\"]\n",
    "label_names = [\"785-0\", \"786-0\", \"787-0\", \"788-0\"]"
   ]
  },
  {
   "cell_type": "code",
   "execution_count": 4,
   "metadata": {
    "collapsed": true
   },
   "outputs": [],
   "source": [
    "_labels = []\n",
    "_images = []"
   ]
  },
  {
   "cell_type": "code",
   "execution_count": 5,
   "metadata": {
    "collapsed": true
   },
   "outputs": [],
   "source": [
    "_labels = []\n",
    "_images = []\n",
    "for i, label in enumerate(label_names):\n",
    "    for f in glob.glob(\"%s/%s/*\"%(dataset_dir,label)):\n",
    "#         img = Image.open(f).convert('RGB')\n",
    "        img = cv2.imread(f)\n",
    "        img = cv2.cvtColor(img, cv2.COLOR_BGR2RGB)\n",
    "        img = Image.fromarray(img)\n",
    "#         img = ImageOps.grayscale(Image.fromarray(img))\n",
    "        img = np.array(img.resize((224,224)))\n",
    "#         img = cv2.GaussianBlur(img, (3, 3), 0)\n",
    "#         img = cv2.Laplacian(img, cv2.CV_8U, 8)\n",
    "#         img = cv2.Canny(img, 150, 200, 50)\n",
    "#         img = cv2.merge((img, img, img))\n",
    "        _labels.append(i)\n",
    "        _images.append(img)\n",
    "        _labels.append(i)\n",
    "        _images.append(DataAug.affine_image(img))\n",
    "        _labels.append(i)\n",
    "        _images.append(DataAug.brightness_image(img))\n",
    "        _labels.append(i)\n",
    "        _images.append(DataAug.gray_image(img))\n",
    "        _labels.append(i)\n",
    "        _images.append(DataAug.mask_image(img))\n",
    "        _labels.append(i)\n",
    "        _images.append(DataAug.small_image(img))\n",
    "        img2, img3 = DataAug.mirror_image(img)\n",
    "        _labels.append(i)\n",
    "        _images.append(img2)\n",
    "        _labels.append(i)\n",
    "        _images.append(img3)            "
   ]
  },
  {
   "cell_type": "code",
   "execution_count": 6,
   "metadata": {},
   "outputs": [
    {
     "data": {
      "text/plain": [
       "<matplotlib.image.AxesImage at 0x7f687e5d6400>"
      ]
     },
     "execution_count": 6,
     "metadata": {},
     "output_type": "execute_result"
    },
    {
     "data": {
      "image/png": "[encoded data removed]",
      "text/plain": [
       "<matplotlib.figure.Figure at 0x7f68cc6a4a20>"
      ]
     },
     "metadata": {},
     "output_type": "display_data"
    }
   ],
   "source": [
    "import matplotlib.pyplot as plt\n",
    "%matplotlib inline\n",
    "plt.imshow(_images[0])"
   ]
  },
  {
   "cell_type": "code",
   "execution_count": 7,
   "metadata": {
    "collapsed": true
   },
   "outputs": [],
   "source": [
    "# 正規化\n",
    "# images = np.array(_images, dtype=np.float32) / 255.0\n",
    "images = np.array(_images, dtype=np.float32)\n",
    "labels = np.array(_labels, dtype=np.int32)"
   ]
  },
  {
   "cell_type": "code",
   "execution_count": 8,
   "metadata": {},
   "outputs": [
    {
     "data": {
      "text/plain": [
       "<matplotlib.image.AxesImage at 0x7f687648f978>"
      ]
     },
     "execution_count": 8,
     "metadata": {},
     "output_type": "execute_result"
    },
    {
     "data": {
      "image/png": "[encoded data removed]",
      "text/plain": [
       "<matplotlib.figure.Figure at 0x7f687e5d6fd0>"
      ]
     },
     "metadata": {},
     "output_type": "display_data"
    }
   ],
   "source": [
    "plt.imshow(images[60])"
   ]
  },
  {
   "cell_type": "markdown",
   "metadata": {},
   "source": [
    "## chainerで扱えるようにRGBの層を手前に持ってくる"
   ]
  },
  {
   "cell_type": "code",
   "execution_count": 9,
   "metadata": {},
   "outputs": [
    {
     "data": {
      "text/plain": [
       "(224, 224, 3)"
      ]
     },
     "execution_count": 9,
     "metadata": {},
     "output_type": "execute_result"
    }
   ],
   "source": [
    "images[13].shape"
   ]
  },
  {
   "cell_type": "code",
   "execution_count": 10,
   "metadata": {
    "collapsed": true
   },
   "outputs": [],
   "source": [
    "images = images.transpose(0,3,1,2)"
   ]
  },
  {
   "cell_type": "code",
   "execution_count": 11,
   "metadata": {},
   "outputs": [
    {
     "data": {
      "text/plain": [
       "(224,)"
      ]
     },
     "execution_count": 11,
     "metadata": {},
     "output_type": "execute_result"
    }
   ],
   "source": [
    "images[0].shape\n",
    "labels.shape"
   ]
  },
  {
   "cell_type": "markdown",
   "metadata": {},
   "source": [
    "## 画像と正解ラベルのペアを作成する"
   ]
  },
  {
   "cell_type": "code",
   "execution_count": 12,
   "metadata": {
    "collapsed": true
   },
   "outputs": [],
   "source": [
    "x_train = chainer.datasets.TupleDataset(images, labels)"
   ]
  },
  {
   "cell_type": "markdown",
   "metadata": {},
   "source": [
    "## 入力に渡すiteratorの作成"
   ]
  },
  {
   "cell_type": "code",
   "execution_count": 13,
   "metadata": {
    "collapsed": true
   },
   "outputs": [],
   "source": [
    "train_iter = iterators.SerialIterator(x_train, batch_size=50, shuffle=True)"
   ]
  },
  {
   "cell_type": "markdown",
   "metadata": {},
   "source": [
    "## modelの作成"
   ]
  },
  {
   "cell_type": "code",
   "execution_count": 14,
   "metadata": {
    "collapsed": true
   },
   "outputs": [],
   "source": [
    "model = ResNet50(out_n=4)"
   ]
  },
  {
   "cell_type": "markdown",
   "metadata": {},
   "source": [
    "## 最適化手法の選択"
   ]
  },
  {
   "cell_type": "code",
   "execution_count": 15,
   "metadata": {
    "collapsed": true
   },
   "outputs": [],
   "source": [
    "optimizer = optimizers.Adam()\n",
    "optimizer.setup(model)"
   ]
  },
  {
   "cell_type": "markdown",
   "metadata": {},
   "source": [
    "## undaterとtrainerの作成\n",
    "device=0で処理が0番GPUに投げられるはず  \n",
    "訓練結果はresultディレクトリに作成されるはず"
   ]
  },
  {
   "cell_type": "code",
   "execution_count": 16,
   "metadata": {
    "collapsed": true
   },
   "outputs": [],
   "source": [
    "updater = training.StandardUpdater(train_iter, optimizer, device=0)"
   ]
  },
  {
   "cell_type": "code",
   "execution_count": 17,
   "metadata": {
    "collapsed": true
   },
   "outputs": [],
   "source": [
    "trainer = training.Trainer(updater, (10, 'epoch'), out='result')"
   ]
  },
  {
   "cell_type": "markdown",
   "metadata": {},
   "source": [
    "## Logの出力設定"
   ]
  },
  {
   "cell_type": "code",
   "execution_count": 18,
   "metadata": {
    "collapsed": true
   },
   "outputs": [],
   "source": [
    "trainer.extend(extensions.LogReport())\n",
    "trainer.extend(extensions.PrintReport(['epoch', 'main/accuracy', 'main/loss']))\n",
    "trainer.extend(extensions.ProgressBar())"
   ]
  },
  {
   "cell_type": "code",
   "execution_count": 19,
   "metadata": {
    "scrolled": true
   },
   "outputs": [
    {
     "name": "stdout",
     "output_type": "stream",
     "text": [
      "epoch       main/accuracy  main/loss \n",
      "\u001b[J1           0.424          1.96358     \n",
      "\u001b[J2           0.705          0.619278    \n",
      "\u001b[J3           0.992          0.0493554   \n",
      "\u001b[J4           0.985          0.0262395   \n",
      "\u001b[J5           0.988          0.0144237   \n",
      "\u001b[J6           0.995          0.0220333   \n",
      "\u001b[J7           0.996          0.0160789   \n",
      "\u001b[J8           1              0.00390321  \n",
      "\u001b[J9           0.996          0.0060657   \n",
      "\u001b[J10          1              0.00663633  \n",
      "\u001b[J"
     ]
    }
   ],
   "source": [
    "trainer.run()"
   ]
  },
  {
   "cell_type": "code",
   "execution_count": 20,
   "metadata": {
    "collapsed": true
   },
   "outputs": [],
   "source": [
    "from chainer import cuda"
   ]
  },
  {
   "cell_type": "code",
   "execution_count": 21,
   "metadata": {},
   "outputs": [],
   "source": [
    "# img, label = x_train[120]\n",
    "# plt.imshow(img.transpose(1,2,0))\n",
    "# # model.train=False\n",
    "# cuda.check_cuda_available()\n",
    "# cuda.get_device(0).use()\n",
    "# xp = cuda.cupy\n",
    "# # img = Image.open(\"../YOLOv2/DSC_4.jpg\").resize((224,224))\n",
    "# #         img = cv2.cvtColor(img, cv2.COLOR_BGR2RGB)\n",
    "# # img = ImageOps.grayscale(img)\n",
    "# # img = np.array(img.resize((224,224)))\n",
    "# # img = cv2.GaussianBlur(img, (5, 5), 0)\n",
    "# # #         img = cv2.Laplacian(img, cv2.CV_8U, 8)\n",
    "# # img = cv2.Canny(img, 150, 200, 50)\n",
    "# # img = cv2.merge((img, img, img))\n",
    "\n",
    "# # img = np.array(img, dtype=np.float32) / 255\n",
    "# # plt.imshow(img)\n",
    "# # img = img.transpose(2,0,1)\n",
    "# print(\"true_label\",label)\n",
    "# print(\"network's output\")\n",
    "# out = model(xp.asarray(img[None,:]))\n",
    "# print(out[0,0])\n",
    "# print(out[0,1])\n",
    "# print(out[0,2])\n",
    "# print(out[0,3])\n",
    "\n",
    "# print(np.argmax(out))"
   ]
  },
  {
   "cell_type": "code",
   "execution_count": 38,
   "metadata": {},
   "outputs": [
    {
     "name": "stdout",
     "output_type": "stream",
     "text": [
      "true_label 0\n",
      "network's output\n",
      "1.0\n",
      "0.0\n",
      "1.24716e-43\n",
      "0.0\n",
      "0\n"
     ]
    },
    {
     "data": {
      "image/png": "[encoded data removed]",
      "text/plain": [
       "<matplotlib.figure.Figure at 0x7f6845321438>"
      ]
     },
     "metadata": {},
     "output_type": "display_data"
    }
   ],
   "source": [
    "img, label = x_train[1]\n",
    "plt.imshow(img.transpose(1,2,0))\n",
    "# model.train=False\n",
    "with chainer.using_config('train', False):\n",
    "    cuda.check_cuda_available()\n",
    "    cuda.get_device(0).use()\n",
    "    xp = cuda.cupy\n",
    "#     img = Image.open(\"../YOLOv2/DSC_1.jpg\").resize((224,224))\n",
    "#     img = np.array(img, dtype=np.float32) / 255\n",
    "#     img = img.transpose(2,0,1)\n",
    "    plt.imshow(img.transpose(1,2,0))\n",
    "    print(\"true_label\",label)\n",
    "    print(\"network's output\")\n",
    "    out = model(xp.asarray(img[None,:]))\n",
    "    print(out[0,0])\n",
    "    print(out[0,1])\n",
    "    print(out[0,2])\n",
    "    print(out[0,3])\n",
    "\n",
    "    print(np.argmax(out))"
   ]
  },
  {
   "cell_type": "code",
   "execution_count": 23,
   "metadata": {
    "collapsed": true
   },
   "outputs": [],
   "source": [
    "label_names = [\"778-0\", \"785-0\", \"786-0\", \"130-0\"]"
   ]
  },
  {
   "cell_type": "code",
   "execution_count": null,
   "metadata": {
    "collapsed": true
   },
   "outputs": [],
   "source": []
  }
 ],
 "metadata": {
  "kernelspec": {
   "display_name": "Python 3",
   "language": "python",
   "name": "python3"
  },
  "language_info": {
   "codemirror_mode": {
    "name": "ipython",
    "version": 3
   },
   "file_extension": ".py",
   "mimetype": "text/x-python",
   "name": "python",
   "nbconvert_exporter": "python",
   "pygments_lexer": "ipython3",
   "version": "3.6.1"
  }
 },
 "nbformat": 4,
 "nbformat_minor": 2
}

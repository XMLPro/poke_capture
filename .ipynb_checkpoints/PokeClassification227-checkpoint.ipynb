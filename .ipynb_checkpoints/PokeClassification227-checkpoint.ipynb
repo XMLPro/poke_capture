{
 "cells": [
  {
   "cell_type": "markdown",
   "metadata": {},
   "source": [
    "## 必要なライブラリのインポート\n",
    "- numpy,chainer系\n",
    "- ファイル操作系\n",
    "- 画像操作"
   ]
  },
  {
   "cell_type": "code",
   "execution_count": 1,
   "metadata": {
    "collapsed": true
   },
   "outputs": [],
   "source": [
    "import numpy as np\n",
    "import chainer\n",
    "import chainer.functions as F\n",
    "import chainer.links as L\n",
    "from chainer import iterators, optimizers, training\n",
    "from chainer.training import extensions\n",
    "from chainer.cuda import to_cpu\n",
    "\n",
    "import os\n",
    "import glob\n",
    "from PIL import Image"
   ]
  },
  {
   "cell_type": "markdown",
   "metadata": {},
   "source": [
    "## modelの定義(AlexNetぽい構造の何か)"
   ]
  },
  {
   "cell_type": "code",
   "execution_count": 2,
   "metadata": {
    "collapsed": true
   },
   "outputs": [],
   "source": [
    "class AlexNet(chainer.Chain):\n",
    "#     insize = 100\n",
    "    def __init__(self):\n",
    "        super(AlexNet, self).__init__(\n",
    "            conv1=L.Convolution2D(3, 96, 11, stride=4),\n",
    "            conv2=L.Convolution2D(96, 256, 5, pad=2),\n",
    "            conv3=L.Convolution2D(256, 384, 3, pad=1),\n",
    "            conv4=L.Convolution2D(384, 284, 3, pad=1),\n",
    "            conv5=L.Convolution2D(284, 256, 3, pad=1),\n",
    "            fc6=L.Linear(1024, 4096),\n",
    "            fc7=L.Linear(4096, 1024),\n",
    "            fc8=L.Linear(1024, 50),\n",
    "        )\n",
    "\n",
    "    def __call__(self, x, t=None):\n",
    "        h = x\n",
    "        h = F.max_pooling_2d(F.local_response_normalization(F.relu(self.conv1(h))), 3, stride=2)\n",
    "        h = F.max_pooling_2d(F.local_response_normalization(F.relu(self.conv2(h))), 3, stride=2)\n",
    "        h = F.relu(self.conv3(h))\n",
    "        h = F.relu(self.conv4(h))\n",
    "        h = F.max_pooling_2d(F.relu(self.conv5(h)), 3, stride=2)\n",
    "        h = F.dropout(F.relu(self.fc6(h)))\n",
    "        h = F.dropout(F.relu(self.fc7(h)))\n",
    "        if t is not None:\n",
    "            loss = F.softmax_cross_entropy(h, t)\n",
    "            chainer.report({'loss': loss, 'accuracy': F.accuracy(h, t)}, self)\n",
    "            return loss\n",
    "        else:\n",
    "            return to_cpu(F.softmax(self.fc8(h)).data)"
   ]
  },
  {
   "cell_type": "markdown",
   "metadata": {},
   "source": [
    "## データセットのディレクトリ名の取得\n",
    "以降、ディレクトリごとにラベルつけていく"
   ]
  },
  {
   "cell_type": "code",
   "execution_count": 4,
   "metadata": {
    "collapsed": true
   },
   "outputs": [],
   "source": [
    "dataset_dir = \"dataset\"\n",
    "label_names = os.listdir(dataset_dir)"
   ]
  },
  {
   "cell_type": "code",
   "execution_count": 5,
   "metadata": {
    "scrolled": true
   },
   "outputs": [
    {
     "data": {
      "text/plain": [
       "['94-0',\n",
       " '788-0',\n",
       " '89-1',\n",
       " '786-0',\n",
       " '286-0',\n",
       " '105-1',\n",
       " '6-0',\n",
       " '473-0',\n",
       " '143-0',\n",
       " '257-0',\n",
       " '798-0',\n",
       " '530-0',\n",
       " '658-0',\n",
       " '635-0',\n",
       " '472-0',\n",
       " '645-1',\n",
       " '428-0',\n",
       " '448-0',\n",
       " '3-0',\n",
       " '793-0',\n",
       " '642-1',\n",
       " '260-0',\n",
       " '497-0',\n",
       " '376-0',\n",
       " '450-0',\n",
       " '785-0',\n",
       " '778-0',\n",
       " '598-0',\n",
       " '184-0',\n",
       " '488-0',\n",
       " '681-0',\n",
       " '145-0',\n",
       " '303-0',\n",
       " '787-0',\n",
       " '279-0',\n",
       " '730-0',\n",
       " '38-1',\n",
       " '445-0',\n",
       " '130-0',\n",
       " '797-0',\n",
       " '233-0',\n",
       " '212-0',\n",
       " '485-0',\n",
       " '149-0',\n",
       " '479-2',\n",
       " '637-0',\n",
       " '115-0',\n",
       " '373-0',\n",
       " '248-0',\n",
       " '59-0']"
      ]
     },
     "execution_count": 5,
     "metadata": {},
     "output_type": "execute_result"
    }
   ],
   "source": [
    "label_names"
   ]
  },
  {
   "cell_type": "code",
   "execution_count": 13,
   "metadata": {
    "collapsed": true
   },
   "outputs": [],
   "source": [
    "_labels = []\n",
    "_images = []"
   ]
  },
  {
   "cell_type": "code",
   "execution_count": 14,
   "metadata": {
    "collapsed": true
   },
   "outputs": [],
   "source": [
    "for i, label in enumerate(label_names):\n",
    "    for f in glob.glob(\"%s/%s/*\"%(dataset_dir,label)):\n",
    "        img = np.array(Image.open(f))\n",
    "        _labels.append(i)\n",
    "        _images.append(img)"
   ]
  },
  {
   "cell_type": "code",
   "execution_count": 15,
   "metadata": {
    "scrolled": true
   },
   "outputs": [
    {
     "data": {
      "text/plain": [
       "array([[[0, 0, 0],\n",
       "        [0, 0, 0],\n",
       "        [0, 0, 0],\n",
       "        ..., \n",
       "        [0, 0, 0],\n",
       "        [0, 0, 0],\n",
       "        [0, 0, 0]],\n",
       "\n",
       "       [[0, 0, 0],\n",
       "        [0, 0, 0],\n",
       "        [0, 0, 0],\n",
       "        ..., \n",
       "        [0, 0, 0],\n",
       "        [0, 0, 0],\n",
       "        [0, 0, 0]],\n",
       "\n",
       "       [[0, 0, 0],\n",
       "        [0, 0, 0],\n",
       "        [0, 0, 0],\n",
       "        ..., \n",
       "        [0, 0, 0],\n",
       "        [0, 0, 0],\n",
       "        [0, 0, 0]],\n",
       "\n",
       "       ..., \n",
       "       [[0, 0, 0],\n",
       "        [0, 0, 0],\n",
       "        [0, 0, 0],\n",
       "        ..., \n",
       "        [0, 0, 0],\n",
       "        [0, 0, 0],\n",
       "        [0, 0, 0]],\n",
       "\n",
       "       [[0, 0, 0],\n",
       "        [0, 0, 0],\n",
       "        [0, 0, 0],\n",
       "        ..., \n",
       "        [0, 0, 0],\n",
       "        [0, 0, 0],\n",
       "        [0, 0, 0]],\n",
       "\n",
       "       [[0, 0, 0],\n",
       "        [0, 0, 0],\n",
       "        [0, 0, 0],\n",
       "        ..., \n",
       "        [0, 0, 0],\n",
       "        [0, 0, 0],\n",
       "        [0, 0, 0]]], dtype=uint8)"
      ]
     },
     "execution_count": 15,
     "metadata": {},
     "output_type": "execute_result"
    }
   ],
   "source": [
    "_images[0]"
   ]
  },
  {
   "cell_type": "code",
   "execution_count": 16,
   "metadata": {
    "collapsed": true
   },
   "outputs": [],
   "source": [
    "# 正規化\n",
    "images = np.array(_images, dtype=np.float32) / 255.0\n",
    "labels = np.array(_labels, dtype=np.int32)"
   ]
  },
  {
   "cell_type": "markdown",
   "metadata": {},
   "source": [
    "## chainerで扱えるようにRGBの層を手前に持ってくる"
   ]
  },
  {
   "cell_type": "code",
   "execution_count": 17,
   "metadata": {
    "collapsed": true
   },
   "outputs": [],
   "source": [
    "images = images.transpose(0,3,1,2)"
   ]
  },
  {
   "cell_type": "code",
   "execution_count": 18,
   "metadata": {},
   "outputs": [
    {
     "data": {
      "text/plain": [
       "(50,)"
      ]
     },
     "execution_count": 18,
     "metadata": {},
     "output_type": "execute_result"
    }
   ],
   "source": [
    "labels.shape"
   ]
  },
  {
   "cell_type": "markdown",
   "metadata": {},
   "source": [
    "## 画像と正解ラベルのペアを作成する"
   ]
  },
  {
   "cell_type": "code",
   "execution_count": 20,
   "metadata": {
    "collapsed": true
   },
   "outputs": [],
   "source": [
    "x_train = chainer.datasets.TupleDataset(images, labels)"
   ]
  },
  {
   "cell_type": "code",
   "execution_count": 21,
   "metadata": {
    "scrolled": true
   },
   "outputs": [
    {
     "data": {
      "text/plain": [
       "(array([[[ 0.,  0.,  0., ...,  0.,  0.,  0.],\n",
       "         [ 0.,  0.,  0., ...,  0.,  0.,  0.],\n",
       "         [ 0.,  0.,  0., ...,  0.,  0.,  0.],\n",
       "         ..., \n",
       "         [ 0.,  0.,  0., ...,  0.,  0.,  0.],\n",
       "         [ 0.,  0.,  0., ...,  0.,  0.,  0.],\n",
       "         [ 0.,  0.,  0., ...,  0.,  0.,  0.]],\n",
       " \n",
       "        [[ 0.,  0.,  0., ...,  0.,  0.,  0.],\n",
       "         [ 0.,  0.,  0., ...,  0.,  0.,  0.],\n",
       "         [ 0.,  0.,  0., ...,  0.,  0.,  0.],\n",
       "         ..., \n",
       "         [ 0.,  0.,  0., ...,  0.,  0.,  0.],\n",
       "         [ 0.,  0.,  0., ...,  0.,  0.,  0.],\n",
       "         [ 0.,  0.,  0., ...,  0.,  0.,  0.]],\n",
       " \n",
       "        [[ 0.,  0.,  0., ...,  0.,  0.,  0.],\n",
       "         [ 0.,  0.,  0., ...,  0.,  0.,  0.],\n",
       "         [ 0.,  0.,  0., ...,  0.,  0.,  0.],\n",
       "         ..., \n",
       "         [ 0.,  0.,  0., ...,  0.,  0.,  0.],\n",
       "         [ 0.,  0.,  0., ...,  0.,  0.,  0.],\n",
       "         [ 0.,  0.,  0., ...,  0.,  0.,  0.]]], dtype=float32), 0)"
      ]
     },
     "execution_count": 21,
     "metadata": {},
     "output_type": "execute_result"
    }
   ],
   "source": [
    "x_train[0]"
   ]
  },
  {
   "cell_type": "markdown",
   "metadata": {},
   "source": [
    "## 入力に渡すiteratorの作成"
   ]
  },
  {
   "cell_type": "code",
   "execution_count": 23,
   "metadata": {
    "collapsed": true
   },
   "outputs": [],
   "source": [
    "train_iter = iterators.SerialIterator(x_train, batch_size=10, shuffle=True)"
   ]
  },
  {
   "cell_type": "markdown",
   "metadata": {},
   "source": [
    "## modelの作成"
   ]
  },
  {
   "cell_type": "code",
   "execution_count": 24,
   "metadata": {
    "collapsed": true
   },
   "outputs": [],
   "source": [
    "model = AlexNet()"
   ]
  },
  {
   "cell_type": "markdown",
   "metadata": {},
   "source": [
    "## 最適化手法の選択"
   ]
  },
  {
   "cell_type": "code",
   "execution_count": 25,
   "metadata": {
    "collapsed": true
   },
   "outputs": [],
   "source": [
    "optimizer = optimizers.Adam()\n",
    "optimizer.setup(model)"
   ]
  },
  {
   "cell_type": "markdown",
   "metadata": {},
   "source": [
    "## undaterとtrainerの作成\n",
    "device=0で処理が0番GPUに投げられるはず  \n",
    "訓練結果はresultディレクトリに作成されるはず"
   ]
  },
  {
   "cell_type": "code",
   "execution_count": 27,
   "metadata": {},
   "outputs": [
    {
     "name": "stderr",
     "output_type": "stream",
     "text": [
      "/home/c0115334ef/anaconda3/lib/python3.6/site-packages/chainer/cuda.py:84: UserWarning: cuDNN is not enabled.\n",
      "Please reinstall CuPy after you install cudnn\n",
      "(see https://docs-cupy.chainer.org/en/stable/install.html#install-cupy-with-cudnn-and-nccl).\n",
      "  'cuDNN is not enabled.\\n'\n"
     ]
    }
   ],
   "source": [
    "updater = training.StandardUpdater(train_iter, optimizer, device=0)"
   ]
  },
  {
   "cell_type": "code",
   "execution_count": 29,
   "metadata": {
    "collapsed": true
   },
   "outputs": [],
   "source": [
    "trainer = training.Trainer(updater, (100, 'epoch'), out='result')"
   ]
  },
  {
   "cell_type": "markdown",
   "metadata": {
    "collapsed": true
   },
   "source": [
    "## Logの出力設定"
   ]
  },
  {
   "cell_type": "code",
   "execution_count": 30,
   "metadata": {},
   "outputs": [],
   "source": [
    "trainer.extend(extensions.LogReport())\n",
    "trainer.extend(extensions.PrintReport(['epoch', 'main/accuracy', 'main/loss']))\n",
    "trainer.extend(extensions.ProgressBar())"
   ]
  },
  {
   "cell_type": "code",
   "execution_count": 31,
   "metadata": {
    "scrolled": true
   },
   "outputs": [
    {
     "name": "stdout",
     "output_type": "stream",
     "text": [
      "epoch       main/accuracy  main/loss \n",
      "\u001b[J1           0              6.95797     \n",
      "\u001b[J2           0.02           6.93148     \n",
      "\u001b[J3           0.02           6.93147     \n",
      "\u001b[J4           0.02           6.93147     \n",
      "\u001b[J5           0.02           6.93147     \n",
      "\u001b[J6           0.02           6.93147     \n",
      "\u001b[J7           0.02           6.93147     \n",
      "\u001b[J8           0.02           6.93147     \n",
      "\u001b[J9           0.02           6.93147     \n",
      "\u001b[J10          0.02           6.93147     \n",
      "\u001b[J11          0.02           6.93147     \n",
      "\u001b[J12          0.02           6.93147     \n",
      "\u001b[J13          0.02           6.93147     \n",
      "\u001b[J14          0.02           6.93147     \n",
      "\u001b[J15          0.02           6.93147     \n",
      "\u001b[J16          0.02           6.93147     \n",
      "\u001b[J17          0.02           6.93147     \n",
      "\u001b[J18          0.02           6.93147     \n",
      "\u001b[J19          0.02           6.93147     \n",
      "\u001b[J20          0.02           6.93147     \n",
      "\u001b[J     total [##########........................................] 20.00%\n",
      "this epoch [..................................................]  0.00%\n",
      "       100 iter, 20 epoch / 100 epochs\n",
      "       inf iters/sec. Estimated time to finish: 0:00:00.\n",
      "\u001b[4A\u001b[J21          0.02           6.93147     \n",
      "\u001b[J22          0.02           6.93147     \n",
      "\u001b[J23          0.02           6.93147     \n",
      "\u001b[J24          0.02           6.93147     \n",
      "\u001b[J25          0.02           6.93147     \n",
      "\u001b[J26          0.02           6.93147     \n",
      "\u001b[J27          0.02           6.93147     \n",
      "\u001b[J28          0.02           6.93147     \n",
      "\u001b[J29          0.02           6.93147     \n",
      "\u001b[J30          0.02           6.93147     \n",
      "\u001b[J31          0.02           6.93147     \n",
      "\u001b[J32          0.02           6.93147     \n",
      "\u001b[J33          0.02           6.93147     \n",
      "\u001b[J34          0.02           6.93147     \n",
      "\u001b[J35          0.02           6.93147     \n",
      "\u001b[J36          0.02           6.93147     \n",
      "\u001b[J37          0.02           6.93147     \n",
      "\u001b[J38          0.02           6.93147     \n",
      "\u001b[J39          0.02           6.93147     \n",
      "\u001b[J40          0.02           6.93147     \n",
      "\u001b[J     total [####################..............................] 40.00%\n",
      "this epoch [..................................................]  0.00%\n",
      "       200 iter, 40 epoch / 100 epochs\n",
      "    85.116 iters/sec. Estimated time to finish: 0:00:03.524591.\n",
      "\u001b[4A\u001b[J41          0.02           6.93147     \n",
      "\u001b[J42          0.02           6.93147     \n",
      "\u001b[J43          0.02           6.93147     \n",
      "\u001b[J44          0.02           6.93147     \n",
      "\u001b[J45          0.02           6.93147     \n",
      "\u001b[J46          0.02           6.93147     \n",
      "\u001b[J47          0.02           6.93147     \n",
      "\u001b[J48          0.02           6.93147     \n",
      "\u001b[J49          0.02           6.93147     \n",
      "\u001b[J50          0.02           6.93147     \n",
      "\u001b[J51          0.02           6.93147     \n",
      "\u001b[J52          0.02           6.93147     \n",
      "\u001b[J53          0.02           6.93147     \n",
      "\u001b[J54          0.02           6.93147     \n",
      "\u001b[J55          0.02           6.93147     \n",
      "\u001b[J56          0.02           6.93147     \n",
      "\u001b[J57          0.02           6.93147     \n",
      "\u001b[J58          0.02           6.93147     \n",
      "\u001b[J59          0.02           6.93147     \n",
      "\u001b[J60          0.02           6.93147     \n",
      "\u001b[J     total [##############################....................] 60.00%\n",
      "this epoch [..................................................]  0.00%\n",
      "       300 iter, 60 epoch / 100 epochs\n",
      "    85.046 iters/sec. Estimated time to finish: 0:00:02.351656.\n",
      "\u001b[4A\u001b[J61          0.02           6.93147     \n",
      "\u001b[J62          0.02           6.93147     \n",
      "\u001b[J63          0.02           6.93147     \n",
      "\u001b[J64          0.02           6.93147     \n",
      "\u001b[J65          0.02           6.93147     \n",
      "\u001b[J66          0.02           6.93147     \n",
      "\u001b[J67          0.02           6.93147     \n",
      "\u001b[J68          0.02           6.93147     \n",
      "\u001b[J69          0.02           6.93147     \n",
      "\u001b[J70          0.02           6.93147     \n",
      "\u001b[J71          0.02           6.93147     \n",
      "\u001b[J72          0.02           6.93147     \n",
      "\u001b[J73          0.02           6.93147     \n",
      "\u001b[J74          0.02           6.93147     \n",
      "\u001b[J75          0.02           6.93147     \n",
      "\u001b[J76          0.02           6.93147     \n",
      "\u001b[J77          0.02           6.93147     \n",
      "\u001b[J78          0.02           6.93147     \n",
      "\u001b[J79          0.02           6.93147     \n",
      "\u001b[J80          0.02           6.93147     \n",
      "\u001b[J     total [########################################..........] 80.00%\n",
      "this epoch [..................................................]  0.00%\n",
      "       400 iter, 80 epoch / 100 epochs\n",
      "    84.925 iters/sec. Estimated time to finish: 0:00:01.177515.\n",
      "\u001b[4A\u001b[J81          0.02           6.93147     \n",
      "\u001b[J82          0.02           6.93147     \n",
      "\u001b[J83          0.02           6.93147     \n",
      "\u001b[J84          0.02           6.93147     \n",
      "\u001b[J85          0.02           6.93147     \n",
      "\u001b[J86          0.02           6.93147     \n",
      "\u001b[J87          0.02           6.93147     \n",
      "\u001b[J88          0.02           6.93147     \n",
      "\u001b[J89          0.02           6.93147     \n",
      "\u001b[J90          0.02           6.93147     \n",
      "\u001b[J91          0.02           6.93147     \n",
      "\u001b[J92          0.02           6.93147     \n",
      "\u001b[J93          0.02           6.93147     \n",
      "\u001b[J94          0.02           6.93147     \n",
      "\u001b[J95          0.02           6.93147     \n",
      "\u001b[J96          0.02           6.93147     \n",
      "\u001b[J97          0.02           6.93147     \n",
      "\u001b[J98          0.02           6.93147     \n",
      "\u001b[J99          0.02           6.93147     \n",
      "\u001b[J100         0.02           6.93147     \n",
      "\u001b[J     total [##################################################] 100.00%\n",
      "this epoch [..................................................]  0.00%\n",
      "       500 iter, 100 epoch / 100 epochs\n",
      "    84.748 iters/sec. Estimated time to finish: 0:00:00.\n",
      "\u001b[4A\u001b[J"
     ]
    }
   ],
   "source": [
    "trainer.run()"
   ]
  },
  {
   "cell_type": "markdown",
   "metadata": {},
   "source": [
    "## とりあえず実行できる形にはなったけど何も学んでない感じがある"
   ]
  },
  {
   "cell_type": "code",
   "execution_count": null,
   "metadata": {
    "collapsed": true
   },
   "outputs": [],
   "source": []
  }
 ],
 "metadata": {
  "kernelspec": {
   "display_name": "Python 3",
   "language": "python",
   "name": "python3"
  },
  "language_info": {
   "codemirror_mode": {
    "name": "ipython",
    "version": 3
   },
   "file_extension": ".py",
   "mimetype": "text/x-python",
   "name": "python",
   "nbconvert_exporter": "python",
   "pygments_lexer": "ipython3",
   "version": "3.6.1"
  }
 },
 "nbformat": 4,
 "nbformat_minor": 2
}

{
 "cells": [
  {
   "cell_type": "markdown",
   "metadata": {},
   "source": [
    "## 必要なライブラリのインポート\n",
    "- numpy,chainer系\n",
    "- ファイル操作系\n",
    "- 画像操作"
   ]
  },
  {
   "cell_type": "code",
   "execution_count": 1,
   "metadata": {
    "collapsed": true
   },
   "outputs": [],
   "source": [
    "import numpy as np\n",
    "import chainer\n",
    "import chainer.functions as F\n",
    "import chainer.links as L\n",
    "from chainer import iterators, optimizers, training\n",
    "from chainer.training import extensions\n",
    "from chainer.cuda import to_cpu\n",
    "\n",
    "import os\n",
    "import glob\n",
    "from PIL import Image"
   ]
  },
  {
   "cell_type": "markdown",
   "metadata": {},
   "source": [
    "## modelの定義(AlexNetぽい構造の何か)"
   ]
  },
  {
   "cell_type": "code",
   "execution_count": 2,
   "metadata": {
    "collapsed": true
   },
   "outputs": [],
   "source": [
    "# class AlexNet(chainer.Chain):\n",
    "# #     insize = 100\n",
    "#     def __init__(self):\n",
    "#         super(AlexNet, self).__init__(\n",
    "#             conv1=L.Convolution2D(3, 96, 11, stride=4),\n",
    "#             conv2=L.Convolution2D(96, 256, 5, pad=2),\n",
    "#             conv3=L.Convolution2D(256, 384, 3, pad=1),\n",
    "#             conv4=L.Convolution2D(384, 284, 3, pad=1),\n",
    "#             conv5=L.Convolution2D(284, 256, 3, pad=1),\n",
    "#             fc6=L.Linear(1024, 4096),\n",
    "#             fc7=L.Linear(4096, 1024),\n",
    "#             fc8=L.Linear(1024, 3),\n",
    "#         )\n",
    "\n",
    "#     def __call__(self, x, t=None):\n",
    "#         h = x\n",
    "#         h = F.max_pooling_2d(F.local_response_normalization(F.relu(self.conv1(h))), 3, stride=2)\n",
    "#         h = F.max_pooling_2d(F.local_response_normalization(F.relu(self.conv2(h))), 3, stride=2)\n",
    "#         h = F.relu(self.conv3(h))\n",
    "#         h = F.relu(self.conv4(h))\n",
    "#         h = F.max_pooling_2d(F.relu(self.conv5(h)), 3, stride=2)\n",
    "#         h = F.dropout(F.relu(self.fc6(h)))\n",
    "#         h = F.dropout(F.relu(self.fc7(h)))\n",
    "#         if t is not None:\n",
    "#             loss = F.softmax_cross_entropy(h, t)\n",
    "#             chainer.report({'loss': loss, 'accuracy': F.accuracy(h, t)}, self)\n",
    "#             return loss\n",
    "#         else:\n",
    "#             return to_cpu(F.softmax(self.fc8(h)).data)"
   ]
  },
  {
   "cell_type": "code",
   "execution_count": 3,
   "metadata": {
    "collapsed": true
   },
   "outputs": [],
   "source": [
    "class AlexNet(chainer.Chain):\n",
    "#     insize = 100\n",
    "    def __init__(self):\n",
    "        super(AlexNet, self).__init__(\n",
    "            conv1=L.Convolution2D(3, 96, 11, stride=4),\n",
    "            conv2=L.Convolution2D(96, 256, 5, pad=2),\n",
    "            conv3=L.Convolution2D(256, 384, 3, pad=1),\n",
    "            conv4=L.Convolution2D(384, 384, 3, pad=1),\n",
    "            conv5=L.Convolution2D(384, 256, 3, pad=1),\n",
    "            fc6=L.Linear(9216, 4096),\n",
    "            fc7=L.Linear(4096, 1024),\n",
    "            fc8=L.Linear(1024, 50),\n",
    "        )\n",
    "\n",
    "    def __call__(self, x, t=None):\n",
    "        h = x\n",
    "        h = F.max_pooling_2d(F.local_response_normalization(F.relu(self.conv1(h))), 3, stride=2)\n",
    "        h = F.max_pooling_2d(F.local_response_normalization(F.relu(self.conv2(h))), 3, stride=2)\n",
    "        h = F.relu(self.conv3(h))\n",
    "        h = F.relu(self.conv4(h))\n",
    "        h = F.max_pooling_2d(F.relu(self.conv5(h)), 3, stride=2)\n",
    "        h = F.dropout(F.relu(self.fc6(h)))\n",
    "        h = F.dropout(F.relu(self.fc7(h)))\n",
    "        if t is not None:\n",
    "            loss = F.softmax_cross_entropy(h, t)\n",
    "            chainer.report({'loss': loss, 'accuracy': F.accuracy(h, t)}, self)\n",
    "            return loss\n",
    "        else:\n",
    "            return to_cpu(F.softmax(self.fc8(h)).data)"
   ]
  },
  {
   "cell_type": "markdown",
   "metadata": {},
   "source": [
    "## データセットのディレクトリ名の取得\n",
    "以降、ディレクトリごとにラベルつけていく"
   ]
  },
  {
   "cell_type": "code",
   "execution_count": 4,
   "metadata": {
    "collapsed": true
   },
   "outputs": [],
   "source": [
    "dataset_dir = \"dataset\"\n",
    "label_names = os.listdir(dataset_dir)"
   ]
  },
  {
   "cell_type": "code",
   "execution_count": 5,
   "metadata": {
    "collapsed": true,
    "scrolled": true
   },
   "outputs": [],
   "source": [
    "# label_names = label_names[0:2]"
   ]
  },
  {
   "cell_type": "code",
   "execution_count": 6,
   "metadata": {
    "collapsed": true
   },
   "outputs": [],
   "source": [
    "_labels = []\n",
    "_images = []"
   ]
  },
  {
   "cell_type": "code",
   "execution_count": 7,
   "metadata": {
    "collapsed": true
   },
   "outputs": [],
   "source": [
    "for i, label in enumerate(label_names):\n",
    "    for f in glob.glob(\"%s/%s/*\"%(dataset_dir,label)):\n",
    "        img = Image.open(f)\n",
    "        img = np.array(img.resize((227,227)))\n",
    "        for j in range(20):\n",
    "            _labels.append(i)\n",
    "            _images.append(img)"
   ]
  },
  {
   "cell_type": "code",
   "execution_count": 8,
   "metadata": {
    "scrolled": true
   },
   "outputs": [
    {
     "data": {
      "text/plain": [
       "<matplotlib.image.AxesImage at 0x7f99222a1748>"
      ]
     },
     "execution_count": 8,
     "metadata": {},
     "output_type": "execute_result"
    },
    {
     "data": {
      "image/png": "[encoded data removed]",
      "text/plain": [
       "<matplotlib.figure.Figure at 0x7f9927b1a390>"
      ]
     },
     "metadata": {},
     "output_type": "display_data"
    }
   ],
   "source": [
    "import matplotlib.pyplot as plt\n",
    "%matplotlib inline\n",
    "plt.imshow(_images[0])"
   ]
  },
  {
   "cell_type": "code",
   "execution_count": 9,
   "metadata": {
    "collapsed": true
   },
   "outputs": [],
   "source": [
    "# 正規化\n",
    "images = np.array(_images, dtype=np.float32) / 255.0\n",
    "labels = np.array(_labels, dtype=np.int32)"
   ]
  },
  {
   "cell_type": "markdown",
   "metadata": {},
   "source": [
    "## chainerで扱えるようにRGBの層を手前に持ってくる"
   ]
  },
  {
   "cell_type": "code",
   "execution_count": 10,
   "metadata": {
    "collapsed": true
   },
   "outputs": [],
   "source": [
    "images = images.transpose(0,3,1,2)"
   ]
  },
  {
   "cell_type": "code",
   "execution_count": 11,
   "metadata": {},
   "outputs": [
    {
     "data": {
      "text/plain": [
       "(1000,)"
      ]
     },
     "execution_count": 11,
     "metadata": {},
     "output_type": "execute_result"
    }
   ],
   "source": [
    "images[0].shape\n",
    "labels.shape"
   ]
  },
  {
   "cell_type": "markdown",
   "metadata": {},
   "source": [
    "## 画像と正解ラベルのペアを作成する"
   ]
  },
  {
   "cell_type": "code",
   "execution_count": 12,
   "metadata": {
    "collapsed": true
   },
   "outputs": [],
   "source": [
    "x_train = chainer.datasets.TupleDataset(images, labels)"
   ]
  },
  {
   "cell_type": "code",
   "execution_count": 13,
   "metadata": {
    "scrolled": true
   },
   "outputs": [
    {
     "data": {
      "text/plain": [
       "(array([[[ 0.,  0.,  0., ...,  0.,  0.,  0.],\n",
       "         [ 0.,  0.,  0., ...,  0.,  0.,  0.],\n",
       "         [ 0.,  0.,  0., ...,  0.,  0.,  0.],\n",
       "         ..., \n",
       "         [ 0.,  0.,  0., ...,  0.,  0.,  0.],\n",
       "         [ 0.,  0.,  0., ...,  0.,  0.,  0.],\n",
       "         [ 0.,  0.,  0., ...,  0.,  0.,  0.]],\n",
       " \n",
       "        [[ 0.,  0.,  0., ...,  0.,  0.,  0.],\n",
       "         [ 0.,  0.,  0., ...,  0.,  0.,  0.],\n",
       "         [ 0.,  0.,  0., ...,  0.,  0.,  0.],\n",
       "         ..., \n",
       "         [ 0.,  0.,  0., ...,  0.,  0.,  0.],\n",
       "         [ 0.,  0.,  0., ...,  0.,  0.,  0.],\n",
       "         [ 0.,  0.,  0., ...,  0.,  0.,  0.]],\n",
       " \n",
       "        [[ 0.,  0.,  0., ...,  0.,  0.,  0.],\n",
       "         [ 0.,  0.,  0., ...,  0.,  0.,  0.],\n",
       "         [ 0.,  0.,  0., ...,  0.,  0.,  0.],\n",
       "         ..., \n",
       "         [ 0.,  0.,  0., ...,  0.,  0.,  0.],\n",
       "         [ 0.,  0.,  0., ...,  0.,  0.,  0.],\n",
       "         [ 0.,  0.,  0., ...,  0.,  0.,  0.]]], dtype=float32), 0)"
      ]
     },
     "execution_count": 13,
     "metadata": {},
     "output_type": "execute_result"
    }
   ],
   "source": [
    "x_train[0]"
   ]
  },
  {
   "cell_type": "markdown",
   "metadata": {},
   "source": [
    "## 入力に渡すiteratorの作成"
   ]
  },
  {
   "cell_type": "code",
   "execution_count": 14,
   "metadata": {
    "collapsed": true
   },
   "outputs": [],
   "source": [
    "train_iter = iterators.SerialIterator(x_train, batch_size=100, shuffle=True)"
   ]
  },
  {
   "cell_type": "markdown",
   "metadata": {},
   "source": [
    "## modelの作成"
   ]
  },
  {
   "cell_type": "code",
   "execution_count": 15,
   "metadata": {
    "collapsed": true
   },
   "outputs": [],
   "source": [
    "model = AlexNet()"
   ]
  },
  {
   "cell_type": "markdown",
   "metadata": {},
   "source": [
    "## 最適化手法の選択"
   ]
  },
  {
   "cell_type": "code",
   "execution_count": 16,
   "metadata": {
    "collapsed": true
   },
   "outputs": [],
   "source": [
    "optimizer = optimizers.Adam()\n",
    "optimizer.setup(model)"
   ]
  },
  {
   "cell_type": "markdown",
   "metadata": {},
   "source": [
    "## undaterとtrainerの作成\n",
    "device=0で処理が0番GPUに投げられるはず  \n",
    "訓練結果はresultディレクトリに作成されるはず"
   ]
  },
  {
   "cell_type": "code",
   "execution_count": 17,
   "metadata": {},
   "outputs": [
    {
     "name": "stderr",
     "output_type": "stream",
     "text": [
      "/home/c0115334ef/anaconda3/lib/python3.6/site-packages/chainer/cuda.py:84: UserWarning: cuDNN is not enabled.\n",
      "Please reinstall CuPy after you install cudnn\n",
      "(see https://docs-cupy.chainer.org/en/stable/install.html#install-cupy-with-cudnn-and-nccl).\n",
      "  'cuDNN is not enabled.\\n'\n"
     ]
    }
   ],
   "source": [
    "updater = training.StandardUpdater(train_iter, optimizer, device=0)"
   ]
  },
  {
   "cell_type": "code",
   "execution_count": 18,
   "metadata": {
    "collapsed": true
   },
   "outputs": [],
   "source": [
    "trainer = training.Trainer(updater, (100, 'epoch'), out='result')"
   ]
  },
  {
   "cell_type": "markdown",
   "metadata": {
    "collapsed": true
   },
   "source": [
    "## Logの出力設定"
   ]
  },
  {
   "cell_type": "code",
   "execution_count": 19,
   "metadata": {
    "collapsed": true
   },
   "outputs": [],
   "source": [
    "trainer.extend(extensions.LogReport())\n",
    "trainer.extend(extensions.PrintReport(['epoch', 'main/accuracy', 'main/loss']))\n",
    "trainer.extend(extensions.ProgressBar())"
   ]
  },
  {
   "cell_type": "code",
   "execution_count": 20,
   "metadata": {
    "scrolled": true
   },
   "outputs": [
    {
     "name": "stdout",
     "output_type": "stream",
     "text": [
      "epoch       main/accuracy  main/loss \n",
      "\u001b[J1           0.018          8.78608     \n",
      "\u001b[J2           0.02           6.9128      \n",
      "\u001b[J3           0.017          6.73271     \n",
      "\u001b[J4           0.015          6.65834     \n",
      "\u001b[J5           0.028          6.5784      \n",
      "\u001b[J6           0.016          6.60756     \n",
      "\u001b[J7           0.023          6.5401      \n",
      "\u001b[J8           0.047          6.44167     \n",
      "\u001b[J9           0.069          6.41529     \n",
      "\u001b[J10          0.109          6.18158     \n",
      "\u001b[J     total [#####.............................................] 10.00%\n",
      "this epoch [..................................................]  0.00%\n",
      "       100 iter, 10 epoch / 100 epochs\n",
      "       inf iters/sec. Estimated time to finish: 0:00:00.\n",
      "\u001b[4A\u001b[J11          0.132          6.13761     \n",
      "\u001b[J12          0.164          5.94502     \n",
      "\u001b[J13          0.163          5.89546     \n",
      "\u001b[J14          0.174          5.77333     \n",
      "\u001b[J15          0.157          5.89999     \n",
      "\u001b[J16          0.185          5.80201     \n",
      "\u001b[J17          0.192          5.74467     \n",
      "\u001b[J18          0.202          5.6738      \n",
      "\u001b[J19          0.191          5.72657     \n",
      "\u001b[J20          0.186          5.77601     \n",
      "\u001b[J     total [##########........................................] 20.00%\n",
      "this epoch [..................................................]  0.00%\n",
      "       200 iter, 20 epoch / 100 epochs\n",
      "    1.8403 iters/sec. Estimated time to finish: 0:07:14.714333.\n",
      "\u001b[4A\u001b[J21          0.195          5.72172     \n",
      "\u001b[J22          0.177          5.81695     \n",
      "\u001b[J23          0.192          5.74005     \n",
      "\u001b[J24          0.194          5.71911     \n",
      "\u001b[J25          0.191          5.74633     \n",
      "\u001b[J26          0.186          5.781       \n",
      "\u001b[J27          0.189          5.76011     \n",
      "\u001b[J28          0.176          5.85034     \n",
      "\u001b[J29          0.194          5.72548     \n",
      "\u001b[J30          0.192          5.73932     \n",
      "\u001b[J     total [###############...................................] 30.00%\n",
      "this epoch [..................................................]  0.00%\n",
      "       300 iter, 30 epoch / 100 epochs\n",
      "    1.8411 iters/sec. Estimated time to finish: 0:06:20.206477.\n",
      "\u001b[4A\u001b[J31          0.198          5.69771     \n",
      "\u001b[J32          0.202          5.66997     \n",
      "\u001b[J33          0.187          5.77403     \n",
      "\u001b[J34          0.179          5.83032     \n",
      "\u001b[J35          0.184          5.75127     \n",
      "\u001b[J36          0.187          5.77593     \n",
      "\u001b[J37          0.201          5.64156     \n",
      "\u001b[J38          0.181          5.81689     \n",
      "\u001b[J39          0.173          5.87165     \n",
      "\u001b[J40          0.196          5.71257     \n",
      "\u001b[J     total [####################..............................] 40.00%\n",
      "this epoch [..................................................]  0.00%\n",
      "       400 iter, 40 epoch / 100 epochs\n",
      "     1.841 iters/sec. Estimated time to finish: 0:05:25.914764.\n",
      "\u001b[4A\u001b[J41          0.198          5.70095     \n",
      "\u001b[J42          0.187          5.77729     \n",
      "\u001b[J43          0.186          5.78552     \n",
      "\u001b[J44          0.172          5.88417     \n",
      "\u001b[J45          0.184          5.79377     \n",
      "\u001b[J46          0.188          5.8599      \n",
      "\u001b[J47          0.177          5.78388     \n",
      "\u001b[J48          0.199          5.6522      \n",
      "\u001b[J49          0.171          5.8416      \n",
      "\u001b[J50          0.176          5.77587     \n",
      "\u001b[J     total [#########################.........................] 50.00%\n",
      "this epoch [..................................................]  0.00%\n",
      "       500 iter, 50 epoch / 100 epochs\n",
      "    1.8403 iters/sec. Estimated time to finish: 0:04:31.689412.\n",
      "\u001b[4A\u001b[J51          0.182          5.80251     \n",
      "\u001b[J52          0.18           5.82301     \n",
      "\u001b[J53          0.202          5.6733      \n",
      "\u001b[J54          0.193          5.73368     \n",
      "\u001b[J55          0.188          5.73451     \n",
      "\u001b[J56          0.188          5.76193     \n",
      "\u001b[J57          0.195          5.72013     \n",
      "\u001b[J58          0.181          5.81572     \n",
      "\u001b[J59          0.192          5.73946     \n",
      "\u001b[J60          0.172          5.878       \n",
      "\u001b[J     total [##############################....................] 60.00%\n",
      "this epoch [..................................................]  0.00%\n",
      "       600 iter, 60 epoch / 100 epochs\n",
      "    1.8393 iters/sec. Estimated time to finish: 0:03:37.477133.\n",
      "\u001b[4A\u001b[J61          0.193          5.73237     \n",
      "\u001b[J62          0.193          5.73234     \n",
      "\u001b[J63          0.198          5.6978      \n",
      "\u001b[J64          0.193          5.73234     \n",
      "\u001b[J65          0.19           5.75314     \n",
      "\u001b[J66          0.181          5.81553     \n",
      "\u001b[J67          0.17           5.88482     \n",
      "\u001b[J68          0.185          5.78778     \n",
      "\u001b[J69          0.204          5.65609     \n",
      "\u001b[J70          0.185          5.78778     \n",
      "\u001b[J     total [###################################...............] 70.00%\n",
      "this epoch [..................................................]  0.00%\n",
      "       700 iter, 70 epoch / 100 epochs\n",
      "    1.8389 iters/sec. Estimated time to finish: 0:02:43.138369.\n",
      "\u001b[4A\u001b[J71          0.185          5.78779     \n",
      "\u001b[J72          0.181          5.81551     \n",
      "\u001b[J73          0.205          5.64916     \n",
      "\u001b[J74          0.193          5.73233     \n",
      "\u001b[J75          0.199          5.69074     \n",
      "\u001b[J76          0.199          5.69074     \n",
      "\u001b[J77          0.189          5.76005     \n",
      "\u001b[J78          0.183          5.80165     \n",
      "\u001b[J79          0.181          5.81551     \n",
      "\u001b[J80          0.186          5.78085     \n",
      "\u001b[J     total [########################################..........] 80.00%\n",
      "this epoch [..................................................]  0.00%\n",
      "       800 iter, 80 epoch / 100 epochs\n",
      "    1.8389 iters/sec. Estimated time to finish: 0:01:48.762356.\n",
      "\u001b[4A\u001b[J81          0.188          5.76699     \n",
      "\u001b[J82          0.185          5.78778     \n",
      "\u001b[J83          0.184          5.79472     \n",
      "\u001b[J84          0.176          5.85017     \n",
      "\u001b[J85          0.183          5.80164     \n",
      "\u001b[J86          0.197          5.7046      \n",
      "\u001b[J87          0.183          5.80164     \n",
      "\u001b[J88          0.189          5.76005     \n",
      "\u001b[J89          0.194          5.7254      \n",
      "\u001b[J90          0.201          5.67688     \n",
      "\u001b[J     total [#############################################.....] 90.00%\n",
      "this epoch [..................................................]  0.00%\n",
      "       900 iter, 90 epoch / 100 epochs\n",
      "    1.8389 iters/sec. Estimated time to finish: 0:00:54.381253.\n",
      "\u001b[4A\u001b[J91          0.186          5.78085     \n",
      "\u001b[J92          0.169          5.89868     \n",
      "\u001b[J93          0.188          5.76702     \n",
      "\u001b[J94          0.203          5.66301     \n",
      "\u001b[J95          0.197          5.70461     \n",
      "\u001b[J96          0.193          5.73233     \n",
      "\u001b[J97          0.192          5.73926     \n",
      "\u001b[J98          0.185          5.7878      \n",
      "\u001b[J99          0.19           5.75312     \n",
      "\u001b[J100         0.19           5.75312     \n",
      "\u001b[J     total [##################################################] 100.00%\n",
      "this epoch [..................................................]  0.00%\n",
      "      1000 iter, 100 epoch / 100 epochs\n",
      "    1.8391 iters/sec. Estimated time to finish: 0:00:00.\n",
      "\u001b[4A\u001b[J"
     ]
    }
   ],
   "source": [
    "trainer.run()"
   ]
  },
  {
   "cell_type": "markdown",
   "metadata": {},
   "source": [
    "## 【祝】訓練データに対する判別率10%突破！"
   ]
  },
  {
   "cell_type": "code",
   "execution_count": null,
   "metadata": {
    "collapsed": true
   },
   "outputs": [],
   "source": []
  }
 ],
 "metadata": {
  "kernelspec": {
   "display_name": "Python 3",
   "language": "python",
   "name": "python3"
  },
  "language_info": {
   "codemirror_mode": {
    "name": "ipython",
    "version": 3
   },
   "file_extension": ".py",
   "mimetype": "text/x-python",
   "name": "python",
   "nbconvert_exporter": "python",
   "pygments_lexer": "ipython3",
   "version": "3.6.1"
  }
 },
 "nbformat": 4,
 "nbformat_minor": 2
}

{
 "cells": [
  {
   "cell_type": "markdown",
   "metadata": {},
   "source": [
    "## ライブラリimport"
   ]
  },
  {
   "cell_type": "code",
   "execution_count": 1,
   "metadata": {
    "collapsed": true
   },
   "outputs": [],
   "source": [
    "#!/usr/bin/python3\n",
    "#encoding: utf-8\n",
    "from tqdm import tqdm\n",
    "# tqdm = lambda x: x\n",
    "\n",
    "import cv2\n",
    "import numpy as np\n",
    "import math\n",
    "from PIL import Image\n",
    "from scipy import ndimage\n",
    "from skimage.feature import hog\n",
    "\n",
    "from matplotlib import pyplot as plt\n",
    "\n",
    "%matplotlib inline"
   ]
  },
  {
   "cell_type": "code",
   "execution_count": 2,
   "metadata": {
    "collapsed": true
   },
   "outputs": [],
   "source": [
    "red, blue = min, max"
   ]
  },
  {
   "cell_type": "code",
   "execution_count": 3,
   "metadata": {
    "collapsed": true
   },
   "outputs": [],
   "source": [
    "# 関係ないメソッド\n",
    "def fill_img(img, bgr, fat=1):\n",
    "    img = np.copy(img)\n",
    "    # target = np.copy(img[10][10])\n",
    "    target = np.copy(avg_color(img, 0, 2, 0, 2))\n",
    "    for row in img:\n",
    "        for i, t in enumerate(row):\n",
    "            if np.linalg.norm(target - t) < fat:\n",
    "                row[i] = np.copy(bgr)\n",
    "    return img"
   ]
  },
  {
   "cell_type": "code",
   "execution_count": 4,
   "metadata": {
    "collapsed": true
   },
   "outputs": [],
   "source": [
    "# 関係ないメソッド\n",
    "def avg_color(img, x1, x2, y1, y2):\n",
    "    length = (x2 - x1) * (y2 - y1)\n",
    "    b = np.sum(img[y1:y2, x1:x2, 0]) / length\n",
    "    g = np.sum(img[y1:y2, x1:x2, 1]) / length\n",
    "    r = np.sum(img[y1:y2, x1:x2, 2]) / length\n",
    "    return np.array([b, g, r])"
   ]
  },
  {
   "cell_type": "code",
   "execution_count": 5,
   "metadata": {
    "collapsed": true
   },
   "outputs": [],
   "source": [
    "# 輪郭抽出 cvパワー全開\n",
    "# 大きめの画像を抽出して、赤多めか、青多めかでチーム決定してます\n",
    "def get_contour(img, team):\n",
    "    gray = cv2.cvtColor(img, cv2.COLOR_RGB2GRAY)\n",
    "    gaus = cv2.GaussianBlur(gray, (11, 11), 0)\n",
    "    th2 = cv2.adaptiveThreshold(gaus, 255, cv2.ADAPTIVE_THRESH_GAUSSIAN_C, cv2.THRESH_BINARY_INV, 11, 3)\n",
    "    contours = cv2.findContours(th2, cv2.RETR_LIST, cv2.CHAIN_APPROX_SIMPLE)[1]\n",
    "    contours = [x for x in contours if cv2.contourArea(x) > 60000]\n",
    "    party = []\n",
    "    for i, c in enumerate(contours):\n",
    "        x, y, w, h = cv2.boundingRect(c)\n",
    "        trim = img[y:y+h, x:x+w]\n",
    "        party.append([np.sum(trim[:, :, 0] > trim[:, :, 1]), c])\n",
    "    return team(party, key=lambda x:x[0])[1]"
   ]
  },
  {
   "cell_type": "code",
   "execution_count": 6,
   "metadata": {
    "collapsed": true
   },
   "outputs": [],
   "source": [
    "# 切り取られたパーティ画像をいい感じに回転させる処理\n",
    "def adjast_img(img, team):\n",
    "    rect = cv2.minAreaRect(get_contour(img, team))\n",
    "    box = cv2.boxPoints(rect)\n",
    "    box = sorted(box, key=lambda x: x[1])\n",
    "    target = [box[0], box[1]] if np.linalg.norm((box[0] - box[1]).astype(np.float64)) < np.linalg.norm((box[1] - box[2]).astype(np.float64)) else [box[1], box[2]]\n",
    "    k = math.atan2(target[1][0] - target[0][0], target[1][1] - target[0][1])\n",
    "    result = ndimage.rotate(img, 90 - math.degrees(k))\n",
    "    return result"
   ]
  },
  {
   "cell_type": "code",
   "execution_count": 7,
   "metadata": {
    "collapsed": true
   },
   "outputs": [],
   "source": [
    "# パーティ画像をまっすぐに回転させて切り取り\n",
    "def trimming(img, team):\n",
    "    img = adjast_img(img, team)\n",
    "    x, y, w, h = cv2.boundingRect(get_contour(img, team))\n",
    "    return img[y:y+h, x:x+w]"
   ]
  },
  {
   "cell_type": "code",
   "execution_count": 400,
   "metadata": {
    "collapsed": true
   },
   "outputs": [],
   "source": [
    "# 画像指定img_pathにパーティの画像\n",
    "# i = 2\n",
    "# img_path = \"images/sample%d.jpg\" %i\n",
    "img_path = \"./JCSA/DSC_0279.JPG\"\n",
    "img = cv2.imread(img_path)\n",
    "\n",
    "orgHeight, orgWidth = img.shape[:2]\n",
    "\n",
    "area = orgHeight * orgWidth\n",
    "\n",
    "magni = 1000 / orgWidth\n",
    "img = cv2.resize(img, (int(orgWidth * magni), int(orgHeight * magni)))"
   ]
  },
  {
   "cell_type": "code",
   "execution_count": 401,
   "metadata": {
    "collapsed": true
   },
   "outputs": [],
   "source": [
    "# パーティ全体の切り取り\n",
    "# trimedにパーティ全体が格納されている\n",
    "trimed = trimming(img, red)\n",
    "\n",
    "h, w = trimed.shape[:2]\n",
    "bh = h//7\n",
    "th = lambda x: bh + (h - bh) // 3 * x\n",
    "nar = 10\n",
    "img_size = (100, 100)"
   ]
  },
  {
   "cell_type": "code",
   "execution_count": 402,
   "metadata": {
    "collapsed": true
   },
   "outputs": [],
   "source": [
    "# ここからポケモン切り抜き作業\n",
    "pokemons = []\n",
    "for t in range(3):\n",
    "    img1 = cv2.resize(trimed[th(t) + nar:th(t+1) - int(nar * 1.5), nar:w//2 - int(nar * 1.5)], img_size)\n",
    "    img2 = cv2.resize(trimed[th(t) + nar:th(t+1) - int(nar * 1.5), nar + w//2:w - int(nar * 1.5)], img_size)\n",
    "    pokemons.append(img1)\n",
    "    pokemons.append(img2)\n",
    "# pokemonsに各ポケモンが格納されている"
   ]
  },
  {
   "cell_type": "code",
   "execution_count": 420,
   "metadata": {
    "scrolled": true
   },
   "outputs": [
    {
     "data": {
      "text/plain": [
       "<matplotlib.image.AxesImage at 0x7f3b78011588>"
      ]
     },
     "execution_count": 420,
     "metadata": {},
     "output_type": "execute_result"
    },
    {
     "data": {
      "image/png": "[encoded data removed]",
      "text/plain": [
       "<matplotlib.figure.Figure at 0x7f3b78129f28>"
      ]
     },
     "metadata": {},
     "output_type": "display_data"
    }
   ],
   "source": [
    "n = 5\n",
    "plt.imshow(pokemons[n])"
   ]
  },
  {
   "cell_type": "code",
   "execution_count": 421,
   "metadata": {
    "collapsed": true
   },
   "outputs": [],
   "source": [
    "# i = 84"
   ]
  },
  {
   "cell_type": "code",
   "execution_count": 422,
   "metadata": {
    "collapsed": true
   },
   "outputs": [],
   "source": [
    "temp = Image.fromarray(pokemons[n])"
   ]
  },
  {
   "cell_type": "code",
   "execution_count": 423,
   "metadata": {},
   "outputs": [
    {
     "data": {
      "text/plain": [
       "84"
      ]
     },
     "execution_count": 423,
     "metadata": {},
     "output_type": "execute_result"
    }
   ],
   "source": [
    "temp.save(\"poke\"+str(i)+\".jpg\")\n",
    "i+=1\n",
    "i"
   ]
  },
  {
   "cell_type": "code",
   "execution_count": null,
   "metadata": {
    "collapsed": true
   },
   "outputs": [],
   "source": [
    "# 切り抜き終了　以下必要のないコード\n",
    "\n",
    "min_val = None\n",
    "result = None\n",
    "\n",
    "# target = cv2.cvtColor(target, cv2.COLOR_RGB2GRAY) // gray scale\n",
    "pokes = np.load(\"pokes.npy\")\n",
    "pokes = [cv2.resize(x, img_size) for x in pokes]\n",
    "for i, img in enumerate(pokemons):\n",
    "    cv2.imshow(\"poke%d\" %i, img)\n",
    "### target = pokemons[5]\n",
    "### \n",
    "### flg = False\n",
    "### \n",
    "### try:\n",
    "###     data = np.load(\"hog_data.npy\")\n",
    "### except:\n",
    "###     flg = True\n",
    "### if flg:\n",
    "###     data = []\n",
    "###     print(\"hog\")\n",
    "###     for p in tqdm(pokes):\n",
    "###         poke_hogs = []\n",
    "###         p = fill_img(p, (255, 255, 255))\n",
    "###         for im in cv2.split(p):\n",
    "###             im = cv2.GaussianBlur(im, (3,3),0)\n",
    "###             poke_hogs.extend(hog(im, orientations=9, pixels_per_cell=(5, 5), cells_per_block=(6, 6)))\n",
    "###         poke_hogs = np.array(poke_hogs)\n",
    "###         data.append((p, poke_hogs))\n",
    "###     np.save(\"hog_data\", np.array(data))\n",
    "###     flg = False\n",
    "### \n",
    "### def sug(target):\n",
    "###     target_hogs = []\n",
    "###     for im in cv2.split(target):\n",
    "###         target_hogs.extend(hog(im, orientations=9, pixels_per_cell=(5, 5), cells_per_block=(6, 6)))\n",
    "###     target_hogs = np.array(target_hogs)\n",
    "### \n",
    "### \n",
    "###     dists = []\n",
    "###     print(\"distance\")\n",
    "###     for p, poke_hogs in tqdm(data):\n",
    "###         dists.append((p, np.sum(np.abs(poke_hogs - target_hogs))))\n",
    "###     dists.sort(key=lambda x:x[1])\n",
    "###     # index = np.argmin(np.array(dists))\n",
    "###     return dists\n",
    "### num = 5\n",
    "### fig, axs = plt.subplots(ncols=num + 1, nrows=len(pokemons), figsize=(50, 12))\n",
    "### for j, t in enumerate(pokemons):\n",
    "###     print(target[0].shape)\n",
    "###     t = cv2.GaussianBlur(t, (3,3),0)\n",
    "###     t = fill_img(t, (255, 255, 255), 40)\n",
    "###     dists = sug(t)\n",
    "###     for i, pd in enumerate(dists[:num]):\n",
    "###         p, d = pd\n",
    "###         axs[j][i].set_title(\"sug\" + str(i) +\": \" + str(d)[:5])\n",
    "###         axs[j][i].imshow(Image.fromarray(p[:, :, ::-1].copy()))\n",
    "###     axs[j][-1].set_title(\"origin\")\n",
    "###     axs[j][-1].imshow(Image.fromarray(t[:, :, ::-1].copy()))\n",
    "### plt.show()\n",
    "### __import__(\"sys\").exit()\n",
    "\n",
    "\n",
    "\n",
    "# target = cv2.GaussianBlur(target, (11, 11), 1)\n",
    "# target = fill_img(target, (0, 0, 0), 30)\n",
    "# print(target.shape)\n",
    "# target = pokes[int(__import__(\"sys\").argv[2])]\n",
    "###hists = []\n",
    "###hists_b = []\n",
    "###hists_r = []\n",
    "###hists_g = []\n",
    "###hists_gray = []\n",
    "###hists_all = []\n",
    "###\n",
    "###np.save(\"origin\", np.array(pokemons))\n",
    "###\n",
    "#### for i, p in enumerate(pokes):\n",
    "###target_hist = cv2.calcHist([target], [1], None, [256], [0, 256])\n",
    "###target_hist_r = cv2.calcHist([target], [0], None, [256], [0, 256])\n",
    "###target_hist_g = cv2.calcHist([target], [1], None, [256], [0, 256])\n",
    "###target_hist_b = cv2.calcHist([target], [2], None, [256], [0, 256])\n",
    "###t_target_hist_r = cv2.calcHist([target], [0], None, [256], [0, 256])\n",
    "###t_target_hist_g = cv2.calcHist([target], [1], None, [256], [0, 256])\n",
    "###t_target_hist_b = cv2.calcHist([target], [2], None, [256], [0, 256])\n",
    "###target_gray = cv2.cvtColor(target, cv2.COLOR_RGB2GRAY)\n",
    "###target_hist_gray = cv2.calcHist([target_gray], [0], None, [256], [0, 256])\n",
    "###for i, p in tqdm(list(enumerate(pokes))):\n",
    "###\n",
    "###    # target_bgr = avg_color(p, 0, 20, 0, 20)\n",
    "###    # filled = fill_img(p, target_bgr, 5)\n",
    "###    # pokemon_hist = cv2.calcHist([filled], [0], None, [256], [0, 256])\n",
    "###    # target_g = cv2.cvtColor(p, cv2.COLOR_RGB2GRAY)\n",
    "###    # target_g = cv2.GaussianBlur(target_g, (11, 11), 1)\n",
    "###    # laped = cv2.Laplacian(target_g, cv2.CV_32F)\n",
    "###    # _, im01 = cv2.threshold(laped, 10, 1, cv2.THRESH_BINARY)\n",
    "###    # p = cv2.convertScaleAbs(im01)\n",
    "###\n",
    "###    pokemon_hist = cv2.calcHist([p], [1], None, [256], [0, 256])\n",
    "###    pokemon_hist_r = cv2.calcHist([p], [0], None, [256], [0, 256])\n",
    "###    pokemon_hist_g = cv2.calcHist([p], [1], None, [256], [0, 256])\n",
    "###    pokemon_hist_b = cv2.calcHist([p], [2], None, [256], [0, 256])\n",
    "###    p_gray = cv2.cvtColor(p, cv2.COLOR_RGB2GRAY)\n",
    "###    pokemon_hist_gray = cv2.calcHist([p], [0], None, [256], [0, 256])\n",
    "###\n",
    "###    # pokemon_hist = cv2.calcHist([cv2.cvtColor(p, cv2.COLOR_RGB2GRAY)], [0], None, [256], [0, 256])\n",
    "###\n",
    "###    compared = cv2.compareHist(target_hist, pokemon_hist, 0)\n",
    "###    compared_r = cv2.compareHist(target_hist_r, pokemon_hist_r, 0)\n",
    "###    compared_g = cv2.compareHist(target_hist_g, pokemon_hist_g, 0)\n",
    "###    compared_b = cv2.compareHist(target_hist_b, pokemon_hist_b, 0)\n",
    "###    compared_gray = cv2.compareHist(target_hist_gray, pokemon_hist_gray, 0)\n",
    "###\n",
    "###    compared = cv2.compareHist(target_hist, pokemon_hist, 0)\n",
    "###    hists.append([abs(compared), p, pokemon_hist])\n",
    "###    hists_r.append([abs(compared_r), p, pokemon_hist_r])\n",
    "###    hists_g.append([abs(compared_g), p, pokemon_hist_g])\n",
    "###    hists_b.append([abs(compared_b), p, pokemon_hist_b])\n",
    "###    hists_gray.append([abs(compared_gray), p, pokemon_hist_gray])\n",
    "###    hists_all.append([abs(compared_r) + abs(compared_g) + abs(compared_b), p, None])\n",
    "    # if min_val == None or min_val > abs(compared):\n",
    "    #     result = p\n",
    "    #     min_val = abs(compared)\n",
    "\n",
    "# kairyu = np.load(\"mimi.npy\")\n",
    "\n",
    "# Image.fromarray(target[:, :, ::-1].copy()).show()\n",
    "# for i, v in enumerate(pokemons):\n",
    "#     # target_bgr = avg_color(v, 0, 20, 0, 20)\n",
    "#     # filled = fill_img(kairyu, target_bgr, 5)\n",
    "#     # target_hist = cv2.calcHist([filled], [0], None, [256], [0, 256])\n",
    "#\n",
    "#     # compare_hist = cv2.calcHist([v], [0], None, [256], [0, 256])\n",
    "#     # compared = cv2.compareHist(target_hist, compare_hist, 0)\n",
    "#     # print(i, compared)\n",
    "#     # if min_val == None or min_val > abs(compared):\n",
    "#     #     result = v\n",
    "#     #     min_val = abs(compared)\n",
    "#     # cv2.imshow(\"%d\" %i, v)\n",
    "#     Image.fromarray(v[:, :, ::-1].copy()).show()\n",
    "#     # cv2.imshow(\"m%d\" %i, filled)\n",
    "# hists.sort(key=lambda x: x[0], reverse=True)\n",
    "# import pylab as plt\n",
    "###\n",
    "###def imcompare(im1, im2):\n",
    "###    try:\n",
    "###        bf = cv2.BFMatcher(cv2.NORM_HAMMING)\n",
    "###        detector = cv2.ORB_create()\n",
    "###        kp1, des1 = detector.detectAndCompute(im1, None)\n",
    "###        kp2, des2 = detector.detectAndCompute(im2, None)\n",
    "###        dists = [x.distance for x in bf.match(des1, des2)]\n",
    "###        return sum(dists) / len(dists)\n",
    "###    except:\n",
    "###        return 10000\n",
    "###    # out = cv2.drawKeypoints(im01, keypoints, None, None, cv2.DRAW_MATCHES_FLAGS_DRAW_RICH_KEYPOINTS)\n",
    "###\n",
    "###target_g = cv2.cvtColor(target, cv2.COLOR_RGB2GRAY)\n",
    "###target_g = cv2.GaussianBlur(target_g, (11, 11), 1)\n",
    "###laped = cv2.Laplacian(target_g, cv2.CV_32F)\n",
    "###_, im01 = cv2.threshold(laped, 10, 1, cv2.THRESH_BINARY)\n",
    "###im01 = cv2.convertScaleAbs(im01)\n",
    "# plt.imshow(im01, cmap=\"gray\")\n",
    "# plt.show()\n",
    "\n",
    "# compares = [(imcompare(target, p), p) for p in pokes]\n",
    "# result = sorted(compares, key=lambda x: x[0])\n",
    "\n",
    "\n",
    "# # # im01 = (laped > 5).astype(np.int)\n",
    "# #\n",
    "# target = cv2.cvtColor(target, cv2.COLOR_RGB2GRAY)\n",
    "# contours = cv2.findContours(target, cv2.RETR_EXTERNAL, cv2.CHAIN_APPROX_SIMPLE)[1]\n",
    "# cv2.drawContours(target, contours, -1, (0, 0, 0), 1)\n",
    "# print(len(contours))\n",
    "# print(im01)\n",
    "# import os\n",
    "# for i, r in enumerate(result):\n",
    "#     Image.fromarray(r[1][:, :, ::-1].copy()).show()\n",
    "#     input()\n",
    "#     os.system(\"./killer.sh\")\n",
    "\n",
    "### num = 10\n",
    "### fig, axs = plt.subplots(ncols=num + 1, nrows=2, figsize=(50, 4))\n",
    "### # target_hist = cv2.calcHist([im01], [1], None, [256], [0, 256])\n",
    "### import sys\n",
    "### mode = sys.argv[1] if len(sys.argv) > 1 else \"r\"\n",
    "### hists_field = {\"r\": 0, \"g\": 1, \"b\": 2, \"a\": 3}\n",
    "### rgb_hists = zip(hists_r, hists_g, hists_b, hists_all)\n",
    "### for i, h in enumerate(sorted(rgb_hists, key=lambda x: x[hists_field[mode]][0], reverse=True)[:num]):\n",
    "###     value, image, hist = h[hists_field[mode]]\n",
    "###     rv, ri, rh = h[0]\n",
    "###     gv, gi, gh = h[1]\n",
    "###     bv, bi, bh = h[2]\n",
    "###     # grayv, grayi, grayh = hists_gray[i]\n",
    "###     color = ('b', 'g', 'r')\n",
    "###     # Image.fromarray(image[:, :, ::-1].copy()).show()\n",
    "###     # for i,col in enumerate(color):\n",
    "###     #     histr = cv2.calcHist([img],[i],None,[256],[0,256])\n",
    "###     axs[0][i].set_xlim([0, 256])\n",
    "###     axs[0][i].set_ylim([0, 1000])\n",
    "###     axs[0][i].set_title(\"sug\" + str(i) + \" : \" + str(value)[:5])\n",
    "###     if mode in (\"b\", \"a\") : axs[0][i].plot(bh, color='b')\n",
    "###     if mode in (\"g\", \"a\") : axs[0][i].plot(gh, color='g')\n",
    "###     if mode in (\"r\", \"a\") : axs[0][i].plot(rh, color='r')\n",
    "###\n",
    "###     axs[1][i].imshow(Image.fromarray(image[:, :, ::-1].copy()))\n",
    "###\n",
    "### axs[0][-1].set_xlim([0, 256])\n",
    "### axs[0][-1].set_ylim([0, 1000])\n",
    "### axs[0][-1].set_title(\"origin\")\n",
    "### if mode in (\"b\", \"a\") : axs[0][-1].plot(t_target_hist_b, color='b')\n",
    "### if mode in (\"g\", \"a\") : axs[0][-1].plot(t_target_hist_g, color='g')\n",
    "### if mode in (\"r\", \"a\") : axs[0][-1].plot(t_target_hist_r, color='r')\n",
    "### axs[1][-1].imshow(Image.fromarray(target[:, :, ::-1].copy()))\n",
    "### plt.show()\n",
    "    # print(h[0])\n",
    "    # plt.plot(h[0])\n",
    "    # cv2.imshow(\"h%d\" %i, h[1])\n",
    "# cv2.imshow(\"1r\", target)\n",
    "# cv2.imshow(\"2r\", result)\n",
    "\n",
    "# plt.show()\n",
    "cv2.waitKey()\n",
    "# import os\n",
    "# os.system(\"./killer.sh\")"
   ]
  },
  {
   "cell_type": "code",
   "execution_count": 12,
   "metadata": {
    "collapsed": true
   },
   "outputs": [],
   "source": [
    "data = np.load(\"pokes.npy\")"
   ]
  },
  {
   "cell_type": "code",
   "execution_count": 13,
   "metadata": {},
   "outputs": [
    {
     "data": {
      "text/plain": [
       "(908, 100, 100, 3)"
      ]
     },
     "execution_count": 13,
     "metadata": {},
     "output_type": "execute_result"
    }
   ],
   "source": [
    "data.shape"
   ]
  },
  {
   "cell_type": "code",
   "execution_count": 16,
   "metadata": {},
   "outputs": [
    {
     "data": {
      "text/plain": [
       "<matplotlib.image.AxesImage at 0x7f72273e83c8>"
      ]
     },
     "execution_count": 16,
     "metadata": {},
     "output_type": "execute_result"
    },
    {
     "data": {
      "image/png": "[encoded data removed]",
      "text/plain": [
       "<matplotlib.figure.Figure at 0x7f722749b438>"
      ]
     },
     "metadata": {},
     "output_type": "display_data"
    }
   ],
   "source": [
    "plt.imshow(data[100])"
   ]
  },
  {
   "cell_type": "code",
   "execution_count": null,
   "metadata": {
    "collapsed": true
   },
   "outputs": [],
   "source": []
  }
 ],
 "metadata": {
  "kernelspec": {
   "display_name": "Python 3",
   "language": "python",
   "name": "python3"
  },
  "language_info": {
   "codemirror_mode": {
    "name": "ipython",
    "version": 3
   },
   "file_extension": ".py",
   "mimetype": "text/x-python",
   "name": "python",
   "nbconvert_exporter": "python",
   "pygments_lexer": "ipython3",
   "version": "3.6.1"
  }
 },
 "nbformat": 4,
 "nbformat_minor": 2
}
